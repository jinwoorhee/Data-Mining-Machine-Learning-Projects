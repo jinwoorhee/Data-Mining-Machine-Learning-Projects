{
 "cells": [
  {
   "cell_type": "markdown",
   "id": "0d4609fc",
   "metadata": {},
   "source": [
    " # Project # 4 - Random Forest\n",
    " Data file:\n",
    " * https://raw.githubusercontent.com/vjavaly/Baruch-CIS-STA-3920/main/data/temps_extended.csv"
   ]
  },
  {
   "cell_type": "markdown",
   "id": "5cfbe3cb-a262-423a-bcdf-d99f38428480",
   "metadata": {},
   "source": [
    "## Project #4 Requirements\n",
    "* Part 1: \n",
    "  * Load and examine data\n",
    "  * Clean and prepare data for model training\n",
    "  * Display RandomForestRegressor model default hyperparameters\n",
    "  * Train RandomForestRegressor model with default hyperparameters\n",
    "  * Print model accuracy\n",
    "* Part 2: The objective is to improve performance above that of the default hyperparameters\n",
    "  * Prepare hyperparameter variables for random search\n",
    "  * Setup and print random search hyperparameter variables grid\n",
    "  * Setup and execute random search with k-fold cross validation using the hyperparameter variables grid\n",
    "  * Print best hyperparameters combination\n",
    "  * Print model accuracy from the best hyperparameters combination"
   ]
  },
  {
   "cell_type": "code",
   "execution_count": 1,
   "id": "85b07036-1f50-43e4-a309-96cfd85b4099",
   "metadata": {},
   "outputs": [
    {
     "name": "stdout",
     "output_type": "stream",
     "text": [
      "Run time: 12/01/23 10:13:44\n"
     ]
    }
   ],
   "source": [
    "from datetime import datetime\n",
    "print(f'Run time: {datetime.now().strftime(\"%D %T\")}')"
   ]
  },
  {
   "cell_type": "markdown",
   "id": "979f89ee",
   "metadata": {},
   "source": [
    "### Import libraries"
   ]
  },
  {
   "cell_type": "code",
   "execution_count": 2,
   "id": "504b9128",
   "metadata": {},
   "outputs": [],
   "source": [
    "import numpy as np\n",
    "import pandas as pd\n",
    "from pprint import pprint\n",
    "from sklearn.model_selection import train_test_split\n",
    "from sklearn.ensemble import RandomForestRegressor\n",
    "from sklearn.model_selection import RandomizedSearchCV\n",
    "from sklearn.model_selection import GridSearchCV"
   ]
  },
  {
   "cell_type": "markdown",
   "id": "40f06afc",
   "metadata": {},
   "source": [
    "### Function to evaluate model accuracy\n",
    "#### You will use this function twice in this notebook.\n",
    "Please review the comments below carefully to find out when to invoke this function."
   ]
  },
  {
   "cell_type": "code",
   "execution_count": 3,
   "id": "694b26fb",
   "metadata": {},
   "outputs": [],
   "source": [
    "def evaluate(model, model_string, test_features, test_labels):\n",
    "    predictions = model.predict(test_features)\n",
    "    errors = abs(predictions - test_labels)\n",
    "    mape = 100 * np.mean(errors / test_labels)\n",
    "    accuracy = 100 - mape\n",
    "    print('Model Performance: {}'.format(model_string))\n",
    "    print('Accuracy = {:0.2f}%.'.format(accuracy))\n",
    "    \n",
    "    return accuracy"
   ]
  },
  {
   "cell_type": "markdown",
   "id": "edbc602a-a61e-43db-bb28-1fcf6e507402",
   "metadata": {},
   "source": [
    "## Part 1"
   ]
  },
  {
   "cell_type": "markdown",
   "id": "98d6a455",
   "metadata": {},
   "source": [
    "### Load data"
   ]
  },
  {
   "cell_type": "code",
   "execution_count": 4,
   "id": "2645cd2f",
   "metadata": {},
   "outputs": [],
   "source": [
    "df = pd.read_csv(\"https://raw.githubusercontent.com/vjavaly/Baruch-CIS-STA-3920/main/data/temps_extended.csv\")"
   ]
  },
  {
   "cell_type": "markdown",
   "id": "a4af69e8",
   "metadata": {},
   "source": [
    "### Examine data"
   ]
  },
  {
   "cell_type": "code",
   "execution_count": 5,
   "id": "d775174c",
   "metadata": {},
   "outputs": [
    {
     "name": "stdout",
     "output_type": "stream",
     "text": [
      "   year  month  day weekday  ws_1  prcp_1  snwd_1  temp_2  temp_1  average  \\\n",
      "0  2011      1    1     Sat  4.92    0.00       0      36      37     45.6   \n",
      "1  2011      1    2     Sun  5.37    0.00       0      37      40     45.7   \n",
      "2  2011      1    3     Mon  6.26    0.00       0      40      39     45.8   \n",
      "3  2011      1    4    Tues  5.59    0.00       0      39      42     45.9   \n",
      "4  2011      1    5     Wed  3.80    0.03       0      42      38     46.0   \n",
      "\n",
      "   actual  friend  \n",
      "0      40      40  \n",
      "1      39      50  \n",
      "2      42      42  \n",
      "3      38      59  \n",
      "4      45      39  \n"
     ]
    }
   ],
   "source": [
    "print(df.head())"
   ]
  },
  {
   "cell_type": "code",
   "execution_count": 6,
   "id": "e8b8e71a",
   "metadata": {},
   "outputs": [
    {
     "name": "stdout",
     "output_type": "stream",
     "text": [
      "Index(['year', 'month', 'day', 'weekday', 'ws_1', 'prcp_1', 'snwd_1', 'temp_2',\n",
      "       'temp_1', 'average', 'actual', 'friend'],\n",
      "      dtype='object')\n"
     ]
    }
   ],
   "source": [
    "print(df.columns)"
   ]
  },
  {
   "cell_type": "code",
   "execution_count": 7,
   "id": "624bcf09",
   "metadata": {},
   "outputs": [
    {
     "name": "stdout",
     "output_type": "stream",
     "text": [
      "<bound method NDFrame.sample of       year  month  day weekday   ws_1  prcp_1  snwd_1  temp_2  temp_1  \\\n",
      "0     2011      1    1     Sat   4.92    0.00       0      36      37   \n",
      "1     2011      1    2     Sun   5.37    0.00       0      37      40   \n",
      "2     2011      1    3     Mon   6.26    0.00       0      40      39   \n",
      "3     2011      1    4    Tues   5.59    0.00       0      39      42   \n",
      "4     2011      1    5     Wed   3.80    0.03       0      42      38   \n",
      "...    ...    ...  ...     ...    ...     ...     ...     ...     ...   \n",
      "2186  2016     12   28     Wed  15.21    0.05       0      42      44   \n",
      "2187  2016     12   29   Thurs   8.72    0.00       0      44      47   \n",
      "2188  2016     12   30     Fri   8.50    0.05       0      47      48   \n",
      "2189  2016     12   31     Sat   6.93    0.02       0      48      45   \n",
      "2190  2017      1    1     Sun   8.05    0.03       0      45      38   \n",
      "\n",
      "      average  actual  friend  \n",
      "0        45.6      40      40  \n",
      "1        45.7      39      50  \n",
      "2        45.8      42      42  \n",
      "3        45.9      38      59  \n",
      "4        46.0      45      39  \n",
      "...       ...     ...     ...  \n",
      "2186     45.3      47      30  \n",
      "2187     45.3      48      63  \n",
      "2188     45.4      45      57  \n",
      "2189     45.5      38      56  \n",
      "2190     45.6      37      27  \n",
      "\n",
      "[2191 rows x 12 columns]>\n"
     ]
    }
   ],
   "source": [
    "print(df.sample)"
   ]
  },
  {
   "cell_type": "markdown",
   "id": "0b672ac9",
   "metadata": {},
   "source": [
    "### Clean up data"
   ]
  },
  {
   "cell_type": "code",
   "execution_count": 8,
   "id": "e9eb0e4b",
   "metadata": {},
   "outputs": [],
   "source": [
    "# Drop unnecessary columns: year, month, day, weekday\n",
    "df_cleaned = df.drop(columns=['year', 'month', 'day', 'weekday'])"
   ]
  },
  {
   "cell_type": "code",
   "execution_count": 9,
   "id": "033472e1",
   "metadata": {},
   "outputs": [
    {
     "name": "stdout",
     "output_type": "stream",
     "text": [
      "   ws_1  prcp_1  snwd_1  temp_2  temp_1  average  actual  friend\n",
      "0  4.92    0.00       0      36      37     45.6      40      40\n",
      "1  5.37    0.00       0      37      40     45.7      39      50\n",
      "2  6.26    0.00       0      40      39     45.8      42      42\n",
      "3  5.59    0.00       0      39      42     45.9      38      59\n",
      "4  3.80    0.03       0      42      38     46.0      45      39\n"
     ]
    }
   ],
   "source": [
    "# Display first few rows of updated dataframe\n",
    "print(df_cleaned.head())"
   ]
  },
  {
   "cell_type": "markdown",
   "id": "588fc3cc",
   "metadata": {},
   "source": [
    "### Separate independent variables and dependent variable\n",
    "* Independent variables: all remaining variables except 'actual'\n",
    "* Dependent variable: 'actual'"
   ]
  },
  {
   "cell_type": "code",
   "execution_count": 10,
   "id": "cea2fdc3",
   "metadata": {},
   "outputs": [],
   "source": [
    "X = df_cleaned.drop('actual', axis=1)\n",
    "y = df_cleaned['actual']"
   ]
  },
  {
   "cell_type": "markdown",
   "id": "6e4c0f0b",
   "metadata": {},
   "source": [
    "### Split into training and test sets"
   ]
  },
  {
   "cell_type": "code",
   "execution_count": 11,
   "id": "1b89b50b",
   "metadata": {},
   "outputs": [],
   "source": [
    "X_train, X_test, y_train, y_test = train_test_split(X, y, test_size = 0.2, random_state = 42)"
   ]
  },
  {
   "cell_type": "markdown",
   "id": "a071d07a",
   "metadata": {},
   "source": [
    "### Instantiate the RandomForestRegressor model"
   ]
  },
  {
   "cell_type": "code",
   "execution_count": 12,
   "id": "6aecc5ab",
   "metadata": {
    "scrolled": true
   },
   "outputs": [],
   "source": [
    "from sklearn.ensemble import RandomForestRegressor\n",
    "\n",
    "rf_model = RandomForestRegressor(random_state=42)"
   ]
  },
  {
   "cell_type": "markdown",
   "id": "ac5e7255",
   "metadata": {},
   "source": [
    "### Print RandomForestRegressor default hyperparameters"
   ]
  },
  {
   "cell_type": "code",
   "execution_count": 13,
   "id": "0037c0d3",
   "metadata": {
    "scrolled": true
   },
   "outputs": [
    {
     "name": "stdout",
     "output_type": "stream",
     "text": [
      "{'bootstrap': True,\n",
      " 'ccp_alpha': 0.0,\n",
      " 'criterion': 'squared_error',\n",
      " 'max_depth': None,\n",
      " 'max_features': 1.0,\n",
      " 'max_leaf_nodes': None,\n",
      " 'max_samples': None,\n",
      " 'min_impurity_decrease': 0.0,\n",
      " 'min_samples_leaf': 1,\n",
      " 'min_samples_split': 2,\n",
      " 'min_weight_fraction_leaf': 0.0,\n",
      " 'n_estimators': 100,\n",
      " 'n_jobs': None,\n",
      " 'oob_score': False,\n",
      " 'random_state': 42,\n",
      " 'verbose': 0,\n",
      " 'warm_start': False}\n"
     ]
    }
   ],
   "source": [
    "pprint(rf_model.get_params())"
   ]
  },
  {
   "cell_type": "markdown",
   "id": "2cc68a4f",
   "metadata": {},
   "source": [
    "### Fit RandomForestRegressor model using the default hyperparameters"
   ]
  },
  {
   "cell_type": "code",
   "execution_count": 14,
   "id": "f1bf18ed",
   "metadata": {},
   "outputs": [
    {
     "data": {
      "text/html": [
       "<style>#sk-container-id-1 {color: black;}#sk-container-id-1 pre{padding: 0;}#sk-container-id-1 div.sk-toggleable {background-color: white;}#sk-container-id-1 label.sk-toggleable__label {cursor: pointer;display: block;width: 100%;margin-bottom: 0;padding: 0.3em;box-sizing: border-box;text-align: center;}#sk-container-id-1 label.sk-toggleable__label-arrow:before {content: \"▸\";float: left;margin-right: 0.25em;color: #696969;}#sk-container-id-1 label.sk-toggleable__label-arrow:hover:before {color: black;}#sk-container-id-1 div.sk-estimator:hover label.sk-toggleable__label-arrow:before {color: black;}#sk-container-id-1 div.sk-toggleable__content {max-height: 0;max-width: 0;overflow: hidden;text-align: left;background-color: #f0f8ff;}#sk-container-id-1 div.sk-toggleable__content pre {margin: 0.2em;color: black;border-radius: 0.25em;background-color: #f0f8ff;}#sk-container-id-1 input.sk-toggleable__control:checked~div.sk-toggleable__content {max-height: 200px;max-width: 100%;overflow: auto;}#sk-container-id-1 input.sk-toggleable__control:checked~label.sk-toggleable__label-arrow:before {content: \"▾\";}#sk-container-id-1 div.sk-estimator input.sk-toggleable__control:checked~label.sk-toggleable__label {background-color: #d4ebff;}#sk-container-id-1 div.sk-label input.sk-toggleable__control:checked~label.sk-toggleable__label {background-color: #d4ebff;}#sk-container-id-1 input.sk-hidden--visually {border: 0;clip: rect(1px 1px 1px 1px);clip: rect(1px, 1px, 1px, 1px);height: 1px;margin: -1px;overflow: hidden;padding: 0;position: absolute;width: 1px;}#sk-container-id-1 div.sk-estimator {font-family: monospace;background-color: #f0f8ff;border: 1px dotted black;border-radius: 0.25em;box-sizing: border-box;margin-bottom: 0.5em;}#sk-container-id-1 div.sk-estimator:hover {background-color: #d4ebff;}#sk-container-id-1 div.sk-parallel-item::after {content: \"\";width: 100%;border-bottom: 1px solid gray;flex-grow: 1;}#sk-container-id-1 div.sk-label:hover label.sk-toggleable__label {background-color: #d4ebff;}#sk-container-id-1 div.sk-serial::before {content: \"\";position: absolute;border-left: 1px solid gray;box-sizing: border-box;top: 0;bottom: 0;left: 50%;z-index: 0;}#sk-container-id-1 div.sk-serial {display: flex;flex-direction: column;align-items: center;background-color: white;padding-right: 0.2em;padding-left: 0.2em;position: relative;}#sk-container-id-1 div.sk-item {position: relative;z-index: 1;}#sk-container-id-1 div.sk-parallel {display: flex;align-items: stretch;justify-content: center;background-color: white;position: relative;}#sk-container-id-1 div.sk-item::before, #sk-container-id-1 div.sk-parallel-item::before {content: \"\";position: absolute;border-left: 1px solid gray;box-sizing: border-box;top: 0;bottom: 0;left: 50%;z-index: -1;}#sk-container-id-1 div.sk-parallel-item {display: flex;flex-direction: column;z-index: 1;position: relative;background-color: white;}#sk-container-id-1 div.sk-parallel-item:first-child::after {align-self: flex-end;width: 50%;}#sk-container-id-1 div.sk-parallel-item:last-child::after {align-self: flex-start;width: 50%;}#sk-container-id-1 div.sk-parallel-item:only-child::after {width: 0;}#sk-container-id-1 div.sk-dashed-wrapped {border: 1px dashed gray;margin: 0 0.4em 0.5em 0.4em;box-sizing: border-box;padding-bottom: 0.4em;background-color: white;}#sk-container-id-1 div.sk-label label {font-family: monospace;font-weight: bold;display: inline-block;line-height: 1.2em;}#sk-container-id-1 div.sk-label-container {text-align: center;}#sk-container-id-1 div.sk-container {/* jupyter's `normalize.less` sets `[hidden] { display: none; }` but bootstrap.min.css set `[hidden] { display: none !important; }` so we also need the `!important` here to be able to override the default hidden behavior on the sphinx rendered scikit-learn.org. See: https://github.com/scikit-learn/scikit-learn/issues/21755 */display: inline-block !important;position: relative;}#sk-container-id-1 div.sk-text-repr-fallback {display: none;}</style><div id=\"sk-container-id-1\" class=\"sk-top-container\"><div class=\"sk-text-repr-fallback\"><pre>RandomForestRegressor(random_state=42)</pre><b>In a Jupyter environment, please rerun this cell to show the HTML representation or trust the notebook. <br />On GitHub, the HTML representation is unable to render, please try loading this page with nbviewer.org.</b></div><div class=\"sk-container\" hidden><div class=\"sk-item\"><div class=\"sk-estimator sk-toggleable\"><input class=\"sk-toggleable__control sk-hidden--visually\" id=\"sk-estimator-id-1\" type=\"checkbox\" checked><label for=\"sk-estimator-id-1\" class=\"sk-toggleable__label sk-toggleable__label-arrow\">RandomForestRegressor</label><div class=\"sk-toggleable__content\"><pre>RandomForestRegressor(random_state=42)</pre></div></div></div></div></div>"
      ],
      "text/plain": [
       "RandomForestRegressor(random_state=42)"
      ]
     },
     "execution_count": 14,
     "metadata": {},
     "output_type": "execute_result"
    }
   ],
   "source": [
    "rf_model.fit(X_train, y_train)"
   ]
  },
  {
   "cell_type": "markdown",
   "id": "53562258",
   "metadata": {},
   "source": [
    "### Print accuracy for RandomForestRegressor model using the default hyperparameters\n",
    "#### NOTE: Use \"evaluate\" function defined at top of this notebook.\n",
    "For example, assuming the following variable values:\n",
    "* model = rf\n",
    "* model_string = 'using default hyperparameters'\n",
    "* test_features = X_test\n",
    "* test_labels = y_test\n",
    "\n",
    "rfr_base_accuracy = evaluate(rf, 'With default hyperparameters', X_test, y_test)"
   ]
  },
  {
   "cell_type": "code",
   "execution_count": 15,
   "id": "e91ffaf9",
   "metadata": {},
   "outputs": [
    {
     "name": "stdout",
     "output_type": "stream",
     "text": [
      "Model Performance: With Default Hyperparameters\n",
      "Accuracy = 93.49%.\n"
     ]
    }
   ],
   "source": [
    "accuracy_default = evaluate(rf_model, \"With Default Hyperparameters\", X_test, y_test)"
   ]
  },
  {
   "cell_type": "markdown",
   "id": "4752acd6-5c66-43fb-af79-dc66aa965e52",
   "metadata": {},
   "source": [
    "## Part 2"
   ]
  },
  {
   "cell_type": "markdown",
   "id": "2659c024-e513-42ee-b4d7-a78d127f958c",
   "metadata": {},
   "source": [
    "### NOTE: The objective of the hyperparameter search is to improve model performance above the default hyperparameters"
   ]
  },
  {
   "cell_type": "markdown",
   "id": "bfaba08d-1218-4141-90a1-6059ccc1d84f",
   "metadata": {},
   "source": [
    "### Prepare variables for hyperparameter search\n",
    "* Using sklearn.ensemble.RandomForestRegressor documentation [https://scikit-learn.org/stable/modules/generated/sklearn.ensemble.RandomForestRegressor.html] choose at least 3 hyperparameters for random search\n",
    "* For each hyperparameter selected, set up an array of values\n",
    "  * For example: max_features = ['log2', 'sqrt']"
   ]
  },
  {
   "cell_type": "code",
   "execution_count": 16,
   "id": "7054c2dd",
   "metadata": {},
   "outputs": [],
   "source": [
    "# Hyperparameters\n",
    "n_estimators = [100, 200, 300, 400, 500]\n",
    "max_depth = [10, 20, 30, 40, 50, None]\n",
    "max_features = ['sqrt', 'log2']\n",
    "\n",
    "random_grid = {\n",
    "    'n_estimators': n_estimators,\n",
    "    'max_depth': max_depth,\n",
    "    'max_features': max_features,\n",
    "}"
   ]
  },
  {
   "cell_type": "markdown",
   "id": "abef7d04",
   "metadata": {},
   "source": [
    "### Create the hyperparameter grid for the random search\n",
    "Use the variables prepared above"
   ]
  },
  {
   "cell_type": "code",
   "execution_count": 17,
   "id": "612c997e",
   "metadata": {},
   "outputs": [],
   "source": [
    "random_grid = {\n",
    "    'n_estimators': n_estimators,\n",
    "    'max_features': max_features,\n",
    "    'max_depth': max_depth,\n",
    "}"
   ]
  },
  {
   "cell_type": "markdown",
   "id": "afcc9e03",
   "metadata": {},
   "source": [
    "### Print the hyperparameter grid for the random search"
   ]
  },
  {
   "cell_type": "code",
   "execution_count": 18,
   "id": "52c679a9",
   "metadata": {},
   "outputs": [
    {
     "name": "stdout",
     "output_type": "stream",
     "text": [
      "{'n_estimators': [100, 200, 300, 400, 500], 'max_features': ['sqrt', 'log2'], 'max_depth': [10, 20, 30, 40, 50, None]}\n"
     ]
    }
   ],
   "source": [
    "print(random_grid)"
   ]
  },
  {
   "cell_type": "markdown",
   "id": "05c2246c",
   "metadata": {},
   "source": [
    "### Set up random search with k-fold cross validation using the hyperparameter grid"
   ]
  },
  {
   "cell_type": "code",
   "execution_count": 19,
   "id": "e161bce9",
   "metadata": {},
   "outputs": [],
   "source": [
    "# Random search of hyperparameters using 5 fold cross validation.\n",
    "rf = RandomForestRegressor(random_state=42)\n",
    "rf_random = RandomizedSearchCV(estimator=rf, param_distributions=random_grid,\n",
    "                               n_iter=100, cv=5, verbose=2, random_state=42, n_jobs=-1)"
   ]
  },
  {
   "cell_type": "markdown",
   "id": "c14e533d",
   "metadata": {},
   "source": [
    "### Fit the random search model\n",
    "Be patient, this might take a minute or longer"
   ]
  },
  {
   "cell_type": "code",
   "execution_count": 20,
   "id": "c73f1dcc",
   "metadata": {},
   "outputs": [
    {
     "name": "stdout",
     "output_type": "stream",
     "text": [
      "Fitting 5 folds for each of 60 candidates, totalling 300 fits\n"
     ]
    },
    {
     "name": "stderr",
     "output_type": "stream",
     "text": [
      "/Users/jinwoorhee/anaconda3/lib/python3.10/site-packages/sklearn/model_selection/_search.py:307: UserWarning: The total space of parameters 60 is smaller than n_iter=100. Running 60 iterations. For exhaustive searches, use GridSearchCV.\n",
      "  warnings.warn(\n"
     ]
    },
    {
     "data": {
      "text/html": [
       "<style>#sk-container-id-2 {color: black;}#sk-container-id-2 pre{padding: 0;}#sk-container-id-2 div.sk-toggleable {background-color: white;}#sk-container-id-2 label.sk-toggleable__label {cursor: pointer;display: block;width: 100%;margin-bottom: 0;padding: 0.3em;box-sizing: border-box;text-align: center;}#sk-container-id-2 label.sk-toggleable__label-arrow:before {content: \"▸\";float: left;margin-right: 0.25em;color: #696969;}#sk-container-id-2 label.sk-toggleable__label-arrow:hover:before {color: black;}#sk-container-id-2 div.sk-estimator:hover label.sk-toggleable__label-arrow:before {color: black;}#sk-container-id-2 div.sk-toggleable__content {max-height: 0;max-width: 0;overflow: hidden;text-align: left;background-color: #f0f8ff;}#sk-container-id-2 div.sk-toggleable__content pre {margin: 0.2em;color: black;border-radius: 0.25em;background-color: #f0f8ff;}#sk-container-id-2 input.sk-toggleable__control:checked~div.sk-toggleable__content {max-height: 200px;max-width: 100%;overflow: auto;}#sk-container-id-2 input.sk-toggleable__control:checked~label.sk-toggleable__label-arrow:before {content: \"▾\";}#sk-container-id-2 div.sk-estimator input.sk-toggleable__control:checked~label.sk-toggleable__label {background-color: #d4ebff;}#sk-container-id-2 div.sk-label input.sk-toggleable__control:checked~label.sk-toggleable__label {background-color: #d4ebff;}#sk-container-id-2 input.sk-hidden--visually {border: 0;clip: rect(1px 1px 1px 1px);clip: rect(1px, 1px, 1px, 1px);height: 1px;margin: -1px;overflow: hidden;padding: 0;position: absolute;width: 1px;}#sk-container-id-2 div.sk-estimator {font-family: monospace;background-color: #f0f8ff;border: 1px dotted black;border-radius: 0.25em;box-sizing: border-box;margin-bottom: 0.5em;}#sk-container-id-2 div.sk-estimator:hover {background-color: #d4ebff;}#sk-container-id-2 div.sk-parallel-item::after {content: \"\";width: 100%;border-bottom: 1px solid gray;flex-grow: 1;}#sk-container-id-2 div.sk-label:hover label.sk-toggleable__label {background-color: #d4ebff;}#sk-container-id-2 div.sk-serial::before {content: \"\";position: absolute;border-left: 1px solid gray;box-sizing: border-box;top: 0;bottom: 0;left: 50%;z-index: 0;}#sk-container-id-2 div.sk-serial {display: flex;flex-direction: column;align-items: center;background-color: white;padding-right: 0.2em;padding-left: 0.2em;position: relative;}#sk-container-id-2 div.sk-item {position: relative;z-index: 1;}#sk-container-id-2 div.sk-parallel {display: flex;align-items: stretch;justify-content: center;background-color: white;position: relative;}#sk-container-id-2 div.sk-item::before, #sk-container-id-2 div.sk-parallel-item::before {content: \"\";position: absolute;border-left: 1px solid gray;box-sizing: border-box;top: 0;bottom: 0;left: 50%;z-index: -1;}#sk-container-id-2 div.sk-parallel-item {display: flex;flex-direction: column;z-index: 1;position: relative;background-color: white;}#sk-container-id-2 div.sk-parallel-item:first-child::after {align-self: flex-end;width: 50%;}#sk-container-id-2 div.sk-parallel-item:last-child::after {align-self: flex-start;width: 50%;}#sk-container-id-2 div.sk-parallel-item:only-child::after {width: 0;}#sk-container-id-2 div.sk-dashed-wrapped {border: 1px dashed gray;margin: 0 0.4em 0.5em 0.4em;box-sizing: border-box;padding-bottom: 0.4em;background-color: white;}#sk-container-id-2 div.sk-label label {font-family: monospace;font-weight: bold;display: inline-block;line-height: 1.2em;}#sk-container-id-2 div.sk-label-container {text-align: center;}#sk-container-id-2 div.sk-container {/* jupyter's `normalize.less` sets `[hidden] { display: none; }` but bootstrap.min.css set `[hidden] { display: none !important; }` so we also need the `!important` here to be able to override the default hidden behavior on the sphinx rendered scikit-learn.org. See: https://github.com/scikit-learn/scikit-learn/issues/21755 */display: inline-block !important;position: relative;}#sk-container-id-2 div.sk-text-repr-fallback {display: none;}</style><div id=\"sk-container-id-2\" class=\"sk-top-container\"><div class=\"sk-text-repr-fallback\"><pre>RandomizedSearchCV(cv=5, estimator=RandomForestRegressor(random_state=42),\n",
       "                   n_iter=100, n_jobs=-1,\n",
       "                   param_distributions={&#x27;max_depth&#x27;: [10, 20, 30, 40, 50, None],\n",
       "                                        &#x27;max_features&#x27;: [&#x27;sqrt&#x27;, &#x27;log2&#x27;],\n",
       "                                        &#x27;n_estimators&#x27;: [100, 200, 300, 400,\n",
       "                                                         500]},\n",
       "                   random_state=42, verbose=2)</pre><b>In a Jupyter environment, please rerun this cell to show the HTML representation or trust the notebook. <br />On GitHub, the HTML representation is unable to render, please try loading this page with nbviewer.org.</b></div><div class=\"sk-container\" hidden><div class=\"sk-item sk-dashed-wrapped\"><div class=\"sk-label-container\"><div class=\"sk-label sk-toggleable\"><input class=\"sk-toggleable__control sk-hidden--visually\" id=\"sk-estimator-id-2\" type=\"checkbox\" ><label for=\"sk-estimator-id-2\" class=\"sk-toggleable__label sk-toggleable__label-arrow\">RandomizedSearchCV</label><div class=\"sk-toggleable__content\"><pre>RandomizedSearchCV(cv=5, estimator=RandomForestRegressor(random_state=42),\n",
       "                   n_iter=100, n_jobs=-1,\n",
       "                   param_distributions={&#x27;max_depth&#x27;: [10, 20, 30, 40, 50, None],\n",
       "                                        &#x27;max_features&#x27;: [&#x27;sqrt&#x27;, &#x27;log2&#x27;],\n",
       "                                        &#x27;n_estimators&#x27;: [100, 200, 300, 400,\n",
       "                                                         500]},\n",
       "                   random_state=42, verbose=2)</pre></div></div></div><div class=\"sk-parallel\"><div class=\"sk-parallel-item\"><div class=\"sk-item\"><div class=\"sk-label-container\"><div class=\"sk-label sk-toggleable\"><input class=\"sk-toggleable__control sk-hidden--visually\" id=\"sk-estimator-id-3\" type=\"checkbox\" ><label for=\"sk-estimator-id-3\" class=\"sk-toggleable__label sk-toggleable__label-arrow\">estimator: RandomForestRegressor</label><div class=\"sk-toggleable__content\"><pre>RandomForestRegressor(random_state=42)</pre></div></div></div><div class=\"sk-serial\"><div class=\"sk-item\"><div class=\"sk-estimator sk-toggleable\"><input class=\"sk-toggleable__control sk-hidden--visually\" id=\"sk-estimator-id-4\" type=\"checkbox\" ><label for=\"sk-estimator-id-4\" class=\"sk-toggleable__label sk-toggleable__label-arrow\">RandomForestRegressor</label><div class=\"sk-toggleable__content\"><pre>RandomForestRegressor(random_state=42)</pre></div></div></div></div></div></div></div></div></div></div>"
      ],
      "text/plain": [
       "RandomizedSearchCV(cv=5, estimator=RandomForestRegressor(random_state=42),\n",
       "                   n_iter=100, n_jobs=-1,\n",
       "                   param_distributions={'max_depth': [10, 20, 30, 40, 50, None],\n",
       "                                        'max_features': ['sqrt', 'log2'],\n",
       "                                        'n_estimators': [100, 200, 300, 400,\n",
       "                                                         500]},\n",
       "                   random_state=42, verbose=2)"
      ]
     },
     "execution_count": 20,
     "metadata": {},
     "output_type": "execute_result"
    }
   ],
   "source": [
    "rf_random.fit(X_train, y_train)"
   ]
  },
  {
   "cell_type": "markdown",
   "id": "82359291",
   "metadata": {},
   "source": [
    "### Print the best hyperparameters found by the random search"
   ]
  },
  {
   "cell_type": "code",
   "execution_count": 21,
   "id": "ba643493",
   "metadata": {},
   "outputs": [
    {
     "name": "stdout",
     "output_type": "stream",
     "text": [
      "{'n_estimators': 500, 'max_features': 'sqrt', 'max_depth': 10}\n"
     ]
    }
   ],
   "source": [
    "print(rf_random.best_params_)"
   ]
  },
  {
   "cell_type": "markdown",
   "id": "96b4700f",
   "metadata": {},
   "source": [
    "### Print best random search model accuracy\n",
    "#### NOTE: Use \"evaluate\" function defined at top of this notebook."
   ]
  },
  {
   "cell_type": "code",
   "execution_count": 22,
   "id": "adeb32de",
   "metadata": {},
   "outputs": [
    {
     "name": "stdout",
     "output_type": "stream",
     "text": [
      "Model Performance: Best Random Search Model\n",
      "Accuracy = 93.75%.\n",
      "Accuracy of the Best Random Search Model: 93.75121651808202%\n",
      "[CV] END ..max_depth=10, max_features=sqrt, n_estimators=100; total time=   0.5s\n",
      "[CV] END ..max_depth=10, max_features=sqrt, n_estimators=300; total time=   1.4s\n",
      "[CV] END ..max_depth=10, max_features=sqrt, n_estimators=400; total time=   2.2s\n",
      "[CV] END ..max_depth=10, max_features=log2, n_estimators=100; total time=   0.4s\n",
      "[CV] END ..max_depth=10, max_features=log2, n_estimators=200; total time=   0.9s\n",
      "[CV] END ..max_depth=10, max_features=log2, n_estimators=300; total time=   1.1s\n",
      "[CV] END ..max_depth=10, max_features=log2, n_estimators=500; total time=   1.9s\n",
      "[CV] END ..max_depth=20, max_features=sqrt, n_estimators=200; total time=   0.9s\n",
      "[CV] END ..max_depth=20, max_features=sqrt, n_estimators=400; total time=   1.8s\n",
      "[CV] END ..max_depth=20, max_features=sqrt, n_estimators=500; total time=   2.1s\n",
      "[CV] END ..max_depth=20, max_features=log2, n_estimators=300; total time=   1.2s\n",
      "[CV] END ..max_depth=20, max_features=log2, n_estimators=500; total time=   2.0s\n",
      "[CV] END ..max_depth=30, max_features=sqrt, n_estimators=200; total time=   0.9s\n",
      "[CV] END ..max_depth=30, max_features=sqrt, n_estimators=400; total time=   1.7s\n",
      "[CV] END ..max_depth=30, max_features=log2, n_estimators=100; total time=   0.4s\n",
      "[CV] END ..max_depth=30, max_features=log2, n_estimators=100; total time=   0.4s\n",
      "[CV] END ..max_depth=30, max_features=log2, n_estimators=200; total time=   0.9s\n",
      "[CV] END ..max_depth=30, max_features=log2, n_estimators=300; total time=   1.3s\n",
      "[CV] END ..max_depth=30, max_features=log2, n_estimators=400; total time=   1.9s\n",
      "[CV] END ..max_depth=40, max_features=sqrt, n_estimators=100; total time=   0.7s\n",
      "[CV] END ..max_depth=40, max_features=sqrt, n_estimators=200; total time=   1.8s\n",
      "[CV] END ..max_depth=40, max_features=sqrt, n_estimators=400; total time=   2.4s\n",
      "[CV] END ..max_depth=40, max_features=sqrt, n_estimators=500; total time=   2.1s\n",
      "[CV] END ..max_depth=40, max_features=log2, n_estimators=300; total time=   1.4s\n",
      "[CV] END ..max_depth=40, max_features=log2, n_estimators=400; total time=   2.0s\n",
      "[CV] END ..max_depth=50, max_features=sqrt, n_estimators=100; total time=   0.7s\n",
      "[CV] END ..max_depth=50, max_features=sqrt, n_estimators=200; total time=   1.6s\n",
      "[CV] END ..max_depth=50, max_features=sqrt, n_estimators=400; total time=   2.8s\n",
      "[CV] END ..max_depth=50, max_features=log2, n_estimators=100; total time=   1.1s\n",
      "[CV] END ..max_depth=50, max_features=log2, n_estimators=100; total time=   0.7s\n",
      "[CV] END ..max_depth=50, max_features=log2, n_estimators=200; total time=   1.3s\n",
      "[CV] END ..max_depth=50, max_features=log2, n_estimators=300; total time=   1.6s\n",
      "[CV] END ..max_depth=50, max_features=log2, n_estimators=400; total time=   2.2s\n",
      "[CV] END max_depth=None, max_features=sqrt, n_estimators=100; total time=   0.5s\n",
      "[CV] END max_depth=None, max_features=sqrt, n_estimators=200; total time=   1.0s\n",
      "[CV] END max_depth=None, max_features=sqrt, n_estimators=300; total time=   1.9s\n",
      "[CV] END max_depth=None, max_features=sqrt, n_estimators=500; total time=   2.4s\n",
      "[CV] END max_depth=None, max_features=log2, n_estimators=200; total time=   1.3s\n",
      "[CV] END max_depth=None, max_features=log2, n_estimators=400; total time=   2.1s\n",
      "[CV] END ..max_depth=10, max_features=sqrt, n_estimators=200; total time=   0.9s\n",
      "[CV] END ..max_depth=10, max_features=sqrt, n_estimators=300; total time=   1.7s\n",
      "[CV] END ..max_depth=10, max_features=sqrt, n_estimators=500; total time=   2.2s\n",
      "[CV] END ..max_depth=10, max_features=log2, n_estimators=200; total time=   0.9s\n",
      "[CV] END ..max_depth=10, max_features=log2, n_estimators=400; total time=   1.6s\n",
      "[CV] END ..max_depth=10, max_features=log2, n_estimators=500; total time=   1.9s\n",
      "[CV] END ..max_depth=20, max_features=sqrt, n_estimators=300; total time=   1.4s\n",
      "[CV] END ..max_depth=20, max_features=sqrt, n_estimators=500; total time=   2.1s\n",
      "[CV] END ..max_depth=20, max_features=log2, n_estimators=200; total time=   0.8s\n",
      "[CV] END ..max_depth=20, max_features=log2, n_estimators=400; total time=   1.6s\n",
      "[CV] END ..max_depth=20, max_features=log2, n_estimators=500; total time=   2.1s\n",
      "[CV] END ..max_depth=30, max_features=sqrt, n_estimators=300; total time=   1.3s\n",
      "[CV] END ..max_depth=30, max_features=sqrt, n_estimators=500; total time=   2.0s\n",
      "[CV] END ..max_depth=30, max_features=log2, n_estimators=200; total time=   0.8s\n",
      "[CV] END ..max_depth=30, max_features=log2, n_estimators=400; total time=   1.7s\n",
      "[CV] END ..max_depth=30, max_features=log2, n_estimators=500; total time=   3.5s\n",
      "[CV] END ..max_depth=40, max_features=sqrt, n_estimators=300; total time=   2.0s\n",
      "[CV] END ..max_depth=40, max_features=sqrt, n_estimators=500; total time=   2.2s\n",
      "[CV] END ..max_depth=40, max_features=log2, n_estimators=200; total time=   0.8s\n",
      "[CV] END ..max_depth=40, max_features=log2, n_estimators=400; total time=   2.1s\n",
      "[CV] END ..max_depth=40, max_features=log2, n_estimators=500; total time=   3.0s\n",
      "[CV] END ..max_depth=50, max_features=sqrt, n_estimators=300; total time=   1.9s\n",
      "[CV] END ..max_depth=50, max_features=sqrt, n_estimators=500; total time=   3.7s\n",
      "[CV] END ..max_depth=50, max_features=log2, n_estimators=200; total time=   1.2s\n",
      "[CV] END ..max_depth=50, max_features=log2, n_estimators=400; total time=   2.1s\n",
      "[CV] END ..max_depth=50, max_features=log2, n_estimators=500; total time=   2.7s\n",
      "[CV] END max_depth=None, max_features=sqrt, n_estimators=300; total time=   2.0s\n",
      "[CV] END max_depth=None, max_features=sqrt, n_estimators=500; total time=   2.5s\n",
      "[CV] END max_depth=None, max_features=log2, n_estimators=300; total time=   1.7s\n",
      "[CV] END max_depth=None, max_features=log2, n_estimators=400; total time=   2.1s\n",
      "[CV] END ..max_depth=10, max_features=sqrt, n_estimators=100; total time=   0.4s\n",
      "[CV] END ..max_depth=10, max_features=sqrt, n_estimators=200; total time=   0.9s\n",
      "[CV] END ..max_depth=10, max_features=sqrt, n_estimators=400; total time=   2.1s\n",
      "[CV] END ..max_depth=10, max_features=log2, n_estimators=100; total time=   0.5s\n",
      "[CV] END ..max_depth=10, max_features=log2, n_estimators=100; total time=   0.5s\n",
      "[CV] END ..max_depth=10, max_features=log2, n_estimators=200; total time=   0.8s\n",
      "[CV] END ..max_depth=10, max_features=log2, n_estimators=300; total time=   1.2s\n",
      "[CV] END ..max_depth=10, max_features=log2, n_estimators=500; total time=   2.0s\n",
      "[CV] END ..max_depth=20, max_features=sqrt, n_estimators=200; total time=   0.9s\n",
      "[CV] END ..max_depth=20, max_features=sqrt, n_estimators=300; total time=   1.3s\n",
      "[CV] END ..max_depth=20, max_features=sqrt, n_estimators=500; total time=   2.2s\n",
      "[CV] END ..max_depth=20, max_features=log2, n_estimators=300; total time=   1.2s\n",
      "[CV] END ..max_depth=20, max_features=log2, n_estimators=400; total time=   1.5s\n",
      "[CV] END ..max_depth=30, max_features=sqrt, n_estimators=100; total time=   0.4s\n",
      "[CV] END ..max_depth=30, max_features=sqrt, n_estimators=200; total time=   1.0s\n",
      "[CV] END ..max_depth=30, max_features=sqrt, n_estimators=300; total time=   1.3s\n",
      "[CV] END ..max_depth=30, max_features=sqrt, n_estimators=400; total time=   1.6s\n",
      "[CV] END ..max_depth=30, max_features=log2, n_estimators=100; total time=   0.4s\n",
      "[CV] END ..max_depth=30, max_features=log2, n_estimators=200; total time=   0.8s\n",
      "[CV] END ..max_depth=30, max_features=log2, n_estimators=300; total time=   1.3s\n",
      "[CV] END ..max_depth=30, max_features=log2, n_estimators=500; total time=   3.3s\n",
      "[CV] END ..max_depth=40, max_features=sqrt, n_estimators=300; total time=   2.3s\n",
      "[CV] END ..max_depth=40, max_features=sqrt, n_estimators=400; total time=   1.9s\n",
      "[CV] END ..max_depth=40, max_features=log2, n_estimators=100; total time=   0.4s\n",
      "[CV] END ..max_depth=40, max_features=log2, n_estimators=200; total time=   0.8s\n",
      "[CV] END ..max_depth=40, max_features=log2, n_estimators=300; total time=   1.5s\n",
      "[CV] END ..max_depth=40, max_features=log2, n_estimators=500; total time=   2.5s\n",
      "[CV] END ..max_depth=50, max_features=sqrt, n_estimators=200; total time=   1.5s\n",
      "[CV] END ..max_depth=50, max_features=sqrt, n_estimators=400; total time=   2.4s\n",
      "[CV] END ..max_depth=50, max_features=sqrt, n_estimators=500; total time=   3.6s\n",
      "[CV] END ..max_depth=50, max_features=log2, n_estimators=300; total time=   1.7s\n",
      "[CV] END ..max_depth=50, max_features=log2, n_estimators=500; total time=   2.7s\n",
      "[CV] END max_depth=None, max_features=sqrt, n_estimators=200; total time=   1.1s\n",
      "[CV] END max_depth=None, max_features=sqrt, n_estimators=400; total time=   2.5s\n",
      "[CV] END max_depth=None, max_features=log2, n_estimators=100; total time=   0.5s\n",
      "[CV] END max_depth=None, max_features=log2, n_estimators=100; total time=   0.5s\n",
      "[CV] END max_depth=None, max_features=log2, n_estimators=200; total time=   1.0s\n",
      "[CV] END max_depth=None, max_features=log2, n_estimators=300; total time=   1.8s\n",
      "[CV] END max_depth=None, max_features=log2, n_estimators=400; total time=   2.1s\n",
      "[CV] END ..max_depth=10, max_features=sqrt, n_estimators=200; total time=   0.9s\n",
      "[CV] END ..max_depth=10, max_features=sqrt, n_estimators=400; total time=   2.1s\n",
      "[CV] END ..max_depth=10, max_features=sqrt, n_estimators=500; total time=   2.3s\n",
      "[CV] END ..max_depth=10, max_features=log2, n_estimators=300; total time=   1.2s\n",
      "[CV] END ..max_depth=10, max_features=log2, n_estimators=500; total time=   2.0s\n",
      "[CV] END ..max_depth=20, max_features=sqrt, n_estimators=200; total time=   0.9s\n",
      "[CV] END ..max_depth=20, max_features=sqrt, n_estimators=400; total time=   1.8s\n",
      "[CV] END ..max_depth=20, max_features=sqrt, n_estimators=500; total time=   2.1s\n",
      "[CV] END ..max_depth=20, max_features=log2, n_estimators=300; total time=   1.2s\n",
      "[CV] END ..max_depth=20, max_features=log2, n_estimators=500; total time=   2.0s\n",
      "[CV] END ..max_depth=30, max_features=sqrt, n_estimators=200; total time=   1.0s\n",
      "[CV] END ..max_depth=30, max_features=sqrt, n_estimators=400; total time=   1.6s\n",
      "[CV] END ..max_depth=30, max_features=sqrt, n_estimators=500; total time=   2.1s\n",
      "[CV] END ..max_depth=30, max_features=log2, n_estimators=300; total time=   1.2s\n",
      "[CV] END ..max_depth=30, max_features=log2, n_estimators=500; total time=   2.5s\n",
      "[CV] END ..max_depth=40, max_features=sqrt, n_estimators=200; total time=   1.6s\n",
      "[CV] END ..max_depth=40, max_features=sqrt, n_estimators=300; total time=   1.9s\n",
      "[CV] END ..max_depth=40, max_features=sqrt, n_estimators=500; total time=   2.1s\n",
      "[CV] END ..max_depth=40, max_features=log2, n_estimators=200; total time=   0.8s\n",
      "[CV] END ..max_depth=40, max_features=log2, n_estimators=400; total time=   2.1s\n",
      "[CV] END ..max_depth=40, max_features=log2, n_estimators=500; total time=   3.0s\n",
      "[CV] END ..max_depth=50, max_features=sqrt, n_estimators=300; total time=   2.0s\n",
      "[CV] END ..max_depth=50, max_features=sqrt, n_estimators=500; total time=   3.7s\n",
      "[CV] END ..max_depth=50, max_features=log2, n_estimators=200; total time=   1.2s\n",
      "[CV] END ..max_depth=50, max_features=log2, n_estimators=400; total time=   2.2s\n",
      "[CV] END max_depth=None, max_features=sqrt, n_estimators=100; total time=   0.6s\n",
      "[CV] END max_depth=None, max_features=sqrt, n_estimators=100; total time=   0.5s\n",
      "[CV] END max_depth=None, max_features=sqrt, n_estimators=100; total time=   0.5s\n",
      "[CV] END max_depth=None, max_features=sqrt, n_estimators=300; total time=   1.8s\n",
      "[CV] END max_depth=None, max_features=sqrt, n_estimators=400; total time=   2.2s\n",
      "[CV] END max_depth=None, max_features=log2, n_estimators=100; total time=   0.4s\n",
      "[CV] END max_depth=None, max_features=log2, n_estimators=100; total time=   0.5s\n",
      "[CV] END max_depth=None, max_features=log2, n_estimators=200; total time=   1.1s\n",
      "[CV] END max_depth=None, max_features=log2, n_estimators=300; total time=   1.6s\n",
      "[CV] END max_depth=None, max_features=log2, n_estimators=500; total time=   2.2s\n",
      "[CV] END ..max_depth=10, max_features=sqrt, n_estimators=100; total time=   0.4s\n",
      "[CV] END ..max_depth=10, max_features=sqrt, n_estimators=300; total time=   1.4s\n",
      "[CV] END ..max_depth=10, max_features=sqrt, n_estimators=500; total time=   2.5s\n",
      "[CV] END ..max_depth=10, max_features=log2, n_estimators=100; total time=   0.6s\n",
      "[CV] END ..max_depth=10, max_features=log2, n_estimators=300; total time=   1.3s\n",
      "[CV] END ..max_depth=10, max_features=log2, n_estimators=400; total time=   1.5s\n",
      "[CV] END ..max_depth=20, max_features=sqrt, n_estimators=100; total time=   0.5s\n",
      "[CV] END ..max_depth=20, max_features=sqrt, n_estimators=200; total time=   0.8s\n",
      "[CV] END ..max_depth=20, max_features=sqrt, n_estimators=300; total time=   1.3s\n",
      "[CV] END ..max_depth=20, max_features=sqrt, n_estimators=500; total time=   2.1s\n",
      "[CV] END ..max_depth=20, max_features=log2, n_estimators=200; total time=   0.8s\n",
      "[CV] END ..max_depth=20, max_features=log2, n_estimators=400; total time=   1.6s\n",
      "[CV] END ..max_depth=20, max_features=log2, n_estimators=500; total time=   2.1s\n",
      "[CV] END ..max_depth=30, max_features=sqrt, n_estimators=300; total time=   1.4s\n",
      "[CV] END ..max_depth=30, max_features=sqrt, n_estimators=500; total time=   2.1s\n",
      "[CV] END ..max_depth=30, max_features=log2, n_estimators=200; total time=   0.8s\n",
      "[CV] END ..max_depth=30, max_features=log2, n_estimators=400; total time=   1.8s\n",
      "[CV] END ..max_depth=40, max_features=sqrt, n_estimators=100; total time=   0.6s\n",
      "[CV] END ..max_depth=40, max_features=sqrt, n_estimators=100; total time=   0.6s\n",
      "[CV] END ..max_depth=40, max_features=sqrt, n_estimators=100; total time=   0.7s\n",
      "[CV] END ..max_depth=40, max_features=sqrt, n_estimators=200; total time=   1.8s\n",
      "[CV] END ..max_depth=40, max_features=sqrt, n_estimators=400; total time=   2.5s\n",
      "[CV] END ..max_depth=40, max_features=log2, n_estimators=100; total time=   0.4s\n",
      "[CV] END ..max_depth=40, max_features=log2, n_estimators=100; total time=   0.4s\n",
      "[CV] END ..max_depth=40, max_features=log2, n_estimators=100; total time=   0.4s\n",
      "[CV] END ..max_depth=40, max_features=log2, n_estimators=200; total time=   0.8s\n",
      "[CV] END ..max_depth=40, max_features=log2, n_estimators=300; total time=   1.5s\n",
      "[CV] END ..max_depth=40, max_features=log2, n_estimators=500; total time=   2.6s\n",
      "[CV] END ..max_depth=50, max_features=sqrt, n_estimators=300; total time=   1.9s\n",
      "[CV] END ..max_depth=50, max_features=sqrt, n_estimators=400; total time=   2.5s\n",
      "[CV] END ..max_depth=50, max_features=log2, n_estimators=100; total time=   0.9s\n",
      "[CV] END ..max_depth=50, max_features=log2, n_estimators=100; total time=   0.7s\n",
      "[CV] END ..max_depth=50, max_features=log2, n_estimators=200; total time=   1.3s\n",
      "[CV] END ..max_depth=50, max_features=log2, n_estimators=300; total time=   1.7s\n",
      "[CV] END ..max_depth=50, max_features=log2, n_estimators=500; total time=   2.8s\n",
      "[CV] END max_depth=None, max_features=sqrt, n_estimators=200; total time=   1.1s\n",
      "[CV] END max_depth=None, max_features=sqrt, n_estimators=400; total time=   2.5s\n",
      "[CV] END max_depth=None, max_features=sqrt, n_estimators=500; total time=   2.4s\n",
      "[CV] END max_depth=None, max_features=log2, n_estimators=300; total time=   1.7s\n",
      "[CV] END max_depth=None, max_features=log2, n_estimators=500; total time=   2.2s\n",
      "[CV] END ..max_depth=10, max_features=sqrt, n_estimators=200; total time=   0.9s\n",
      "[CV] END ..max_depth=10, max_features=sqrt, n_estimators=300; total time=   1.7s\n",
      "[CV] END ..max_depth=10, max_features=sqrt, n_estimators=500; total time=   2.3s\n",
      "[CV] END ..max_depth=10, max_features=log2, n_estimators=200; total time=   0.9s\n",
      "[CV] END ..max_depth=10, max_features=log2, n_estimators=400; total time=   1.4s\n",
      "[CV] END ..max_depth=20, max_features=sqrt, n_estimators=100; total time=   0.5s\n",
      "[CV] END ..max_depth=20, max_features=sqrt, n_estimators=100; total time=   0.5s\n",
      "[CV] END ..max_depth=20, max_features=sqrt, n_estimators=100; total time=   0.4s\n",
      "[CV] END ..max_depth=20, max_features=sqrt, n_estimators=300; total time=   1.4s\n",
      "[CV] END ..max_depth=20, max_features=sqrt, n_estimators=400; total time=   1.7s\n",
      "[CV] END ..max_depth=20, max_features=log2, n_estimators=100; total time=   0.4s\n",
      "[CV] END ..max_depth=20, max_features=log2, n_estimators=200; total time=   0.8s\n",
      "[CV] END ..max_depth=20, max_features=log2, n_estimators=300; total time=   1.2s\n",
      "[CV] END ..max_depth=20, max_features=log2, n_estimators=400; total time=   1.5s\n",
      "[CV] END ..max_depth=30, max_features=sqrt, n_estimators=100; total time=   0.4s\n",
      "[CV] END ..max_depth=30, max_features=sqrt, n_estimators=200; total time=   1.0s\n",
      "[CV] END ..max_depth=30, max_features=sqrt, n_estimators=300; total time=   1.3s\n",
      "[CV] END ..max_depth=30, max_features=sqrt, n_estimators=500; total time=   2.1s\n",
      "[CV] END ..max_depth=30, max_features=log2, n_estimators=300; total time=   1.2s\n",
      "[CV] END ..max_depth=30, max_features=log2, n_estimators=400; total time=   2.0s\n",
      "[CV] END ..max_depth=40, max_features=sqrt, n_estimators=100; total time=   0.7s\n",
      "[CV] END ..max_depth=40, max_features=sqrt, n_estimators=200; total time=   1.8s\n",
      "[CV] END ..max_depth=40, max_features=sqrt, n_estimators=300; total time=   2.1s\n",
      "[CV] END ..max_depth=40, max_features=sqrt, n_estimators=400; total time=   1.9s\n",
      "[CV] END ..max_depth=40, max_features=log2, n_estimators=100; total time=   0.4s\n",
      "[CV] END ..max_depth=40, max_features=log2, n_estimators=300; total time=   1.3s\n",
      "[CV] END ..max_depth=40, max_features=log2, n_estimators=400; total time=   2.1s\n",
      "[CV] END ..max_depth=50, max_features=sqrt, n_estimators=100; total time=   0.6s\n",
      "[CV] END ..max_depth=50, max_features=sqrt, n_estimators=200; total time=   1.2s\n",
      "[CV] END ..max_depth=50, max_features=sqrt, n_estimators=300; total time=   1.9s\n",
      "[CV] END ..max_depth=50, max_features=sqrt, n_estimators=400; total time=   3.3s\n",
      "[CV] END ..max_depth=50, max_features=log2, n_estimators=100; total time=   0.7s\n",
      "[CV] END ..max_depth=50, max_features=log2, n_estimators=200; total time=   1.3s\n",
      "[CV] END ..max_depth=50, max_features=log2, n_estimators=400; total time=   2.0s\n",
      "[CV] END ..max_depth=50, max_features=log2, n_estimators=500; total time=   2.5s\n",
      "[CV] END max_depth=None, max_features=sqrt, n_estimators=300; total time=   2.0s\n",
      "[CV] END max_depth=None, max_features=sqrt, n_estimators=400; total time=   2.0s\n",
      "[CV] END max_depth=None, max_features=log2, n_estimators=100; total time=   0.5s\n",
      "[CV] END max_depth=None, max_features=log2, n_estimators=200; total time=   1.0s\n",
      "[CV] END max_depth=None, max_features=log2, n_estimators=300; total time=   1.9s\n",
      "[CV] END max_depth=None, max_features=log2, n_estimators=500; total time=   2.2s\n",
      "[CV] END ..max_depth=10, max_features=sqrt, n_estimators=100; total time=   0.4s\n",
      "[CV] END ..max_depth=10, max_features=sqrt, n_estimators=300; total time=   1.5s\n",
      "[CV] END ..max_depth=10, max_features=sqrt, n_estimators=400; total time=   2.1s\n",
      "[CV] END ..max_depth=10, max_features=log2, n_estimators=100; total time=   0.5s\n",
      "[CV] END ..max_depth=10, max_features=log2, n_estimators=200; total time=   0.8s\n",
      "[CV] END ..max_depth=10, max_features=log2, n_estimators=300; total time=   1.2s\n",
      "[CV] END ..max_depth=10, max_features=log2, n_estimators=400; total time=   1.6s\n",
      "[CV] END ..max_depth=20, max_features=sqrt, n_estimators=100; total time=   0.4s\n",
      "[CV] END ..max_depth=20, max_features=sqrt, n_estimators=200; total time=   0.9s\n",
      "[CV] END ..max_depth=20, max_features=sqrt, n_estimators=400; total time=   1.8s\n",
      "[CV] END ..max_depth=20, max_features=log2, n_estimators=100; total time=   0.5s\n",
      "[CV] END ..max_depth=20, max_features=log2, n_estimators=100; total time=   0.4s\n",
      "[CV] END ..max_depth=20, max_features=log2, n_estimators=100; total time=   0.4s\n",
      "[CV] END ..max_depth=20, max_features=log2, n_estimators=200; total time=   0.8s\n",
      "[CV] END ..max_depth=20, max_features=log2, n_estimators=400; total time=   1.6s\n",
      "[CV] END ..max_depth=30, max_features=sqrt, n_estimators=100; total time=   0.4s\n",
      "[CV] END ..max_depth=30, max_features=sqrt, n_estimators=100; total time=   0.5s\n",
      "[CV] END ..max_depth=30, max_features=sqrt, n_estimators=100; total time=   0.5s\n",
      "[CV] END ..max_depth=30, max_features=sqrt, n_estimators=200; total time=   0.9s\n",
      "[CV] END ..max_depth=30, max_features=sqrt, n_estimators=400; total time=   1.7s\n",
      "[CV] END ..max_depth=30, max_features=sqrt, n_estimators=500; total time=   2.1s\n",
      "[CV] END ..max_depth=30, max_features=log2, n_estimators=300; total time=   1.3s\n",
      "[CV] END ..max_depth=30, max_features=log2, n_estimators=500; total time=   2.7s\n",
      "[CV] END ..max_depth=40, max_features=sqrt, n_estimators=200; total time=   1.7s\n",
      "[CV] END ..max_depth=40, max_features=sqrt, n_estimators=400; total time=   2.5s\n",
      "[CV] END ..max_depth=40, max_features=sqrt, n_estimators=500; total time=   2.1s\n",
      "[CV] END ..max_depth=40, max_features=log2, n_estimators=300; total time=   1.5s\n",
      "[CV] END ..max_depth=40, max_features=log2, n_estimators=500; total time=   2.6s\n",
      "[CV] END ..max_depth=50, max_features=sqrt, n_estimators=200; total time=   1.3s\n",
      "[CV] END ..max_depth=50, max_features=sqrt, n_estimators=400; total time=   2.6s\n",
      "[CV] END ..max_depth=50, max_features=sqrt, n_estimators=500; total time=   3.8s\n",
      "[CV] END ..max_depth=50, max_features=log2, n_estimators=300; total time=   1.7s\n",
      "[CV] END ..max_depth=50, max_features=log2, n_estimators=500; total time=   2.7s\n",
      "[CV] END max_depth=None, max_features=sqrt, n_estimators=200; total time=   1.1s\n",
      "[CV] END max_depth=None, max_features=sqrt, n_estimators=400; total time=   2.4s\n",
      "[CV] END max_depth=None, max_features=sqrt, n_estimators=500; total time=   2.5s\n",
      "[CV] END max_depth=None, max_features=log2, n_estimators=400; total time=   2.1s\n",
      "[CV] END max_depth=None, max_features=log2, n_estimators=500; total time=   1.9s\n",
      "[CV] END ..max_depth=10, max_features=sqrt, n_estimators=100; total time=   0.4s\n",
      "[CV] END ..max_depth=10, max_features=sqrt, n_estimators=200; total time=   0.9s\n",
      "[CV] END ..max_depth=10, max_features=sqrt, n_estimators=400; total time=   2.0s\n",
      "[CV] END ..max_depth=10, max_features=sqrt, n_estimators=500; total time=   2.3s\n",
      "[CV] END ..max_depth=10, max_features=log2, n_estimators=400; total time=   1.5s\n",
      "[CV] END ..max_depth=10, max_features=log2, n_estimators=500; total time=   2.0s\n",
      "[CV] END ..max_depth=20, max_features=sqrt, n_estimators=300; total time=   1.4s\n",
      "[CV] END ..max_depth=20, max_features=sqrt, n_estimators=400; total time=   1.7s\n",
      "[CV] END ..max_depth=20, max_features=log2, n_estimators=100; total time=   0.4s\n",
      "[CV] END ..max_depth=20, max_features=log2, n_estimators=200; total time=   0.8s\n",
      "[CV] END ..max_depth=20, max_features=log2, n_estimators=300; total time=   1.2s\n",
      "[CV] END ..max_depth=20, max_features=log2, n_estimators=500; total time=   2.1s\n",
      "[CV] END ..max_depth=30, max_features=sqrt, n_estimators=300; total time=   1.4s\n",
      "[CV] END ..max_depth=30, max_features=sqrt, n_estimators=400; total time=   1.6s\n",
      "[CV] END ..max_depth=30, max_features=log2, n_estimators=100; total time=   0.4s\n",
      "[CV] END ..max_depth=30, max_features=log2, n_estimators=100; total time=   0.4s\n",
      "[CV] END ..max_depth=30, max_features=log2, n_estimators=200; total time=   0.9s\n",
      "[CV] END ..max_depth=30, max_features=log2, n_estimators=400; total time=   1.7s\n",
      "[CV] END ..max_depth=30, max_features=log2, n_estimators=500; total time=   3.6s\n",
      "[CV] END ..max_depth=40, max_features=sqrt, n_estimators=300; total time=   2.0s\n",
      "[CV] END ..max_depth=40, max_features=sqrt, n_estimators=500; total time=   2.0s\n",
      "[CV] END ..max_depth=40, max_features=log2, n_estimators=200; total time=   0.8s\n",
      "[CV] END ..max_depth=40, max_features=log2, n_estimators=400; total time=   2.2s\n",
      "[CV] END ..max_depth=50, max_features=sqrt, n_estimators=100; total time=   0.5s\n",
      "[CV] END ..max_depth=50, max_features=sqrt, n_estimators=100; total time=   0.5s\n",
      "[CV] END ..max_depth=50, max_features=sqrt, n_estimators=100; total time=   0.6s\n",
      "[CV] END ..max_depth=50, max_features=sqrt, n_estimators=200; total time=   1.4s\n",
      "[CV] END ..max_depth=50, max_features=sqrt, n_estimators=300; total time=   1.8s\n",
      "[CV] END ..max_depth=50, max_features=sqrt, n_estimators=500; total time=   4.0s\n",
      "[CV] END ..max_depth=50, max_features=log2, n_estimators=300; total time=   1.8s\n",
      "[CV] END ..max_depth=50, max_features=log2, n_estimators=400; total time=   2.2s\n",
      "[CV] END max_depth=None, max_features=sqrt, n_estimators=100; total time=   0.6s\n",
      "[CV] END max_depth=None, max_features=sqrt, n_estimators=200; total time=   1.1s\n",
      "[CV] END max_depth=None, max_features=sqrt, n_estimators=300; total time=   2.1s\n",
      "[CV] END max_depth=None, max_features=sqrt, n_estimators=500; total time=   2.3s\n",
      "[CV] END max_depth=None, max_features=log2, n_estimators=200; total time=   1.3s\n",
      "[CV] END max_depth=None, max_features=log2, n_estimators=400; total time=   2.0s\n",
      "[CV] END max_depth=None, max_features=log2, n_estimators=500; total time=   1.6s\n"
     ]
    }
   ],
   "source": [
    "best_random_model = rf_random.best_estimator_\n",
    "best_random_model_accuracy = evaluate(best_random_model, 'Best Random Search Model', X_test, y_test)\n",
    "print(f\"Accuracy of the Best Random Search Model: {best_random_model_accuracy}%\")"
   ]
  }
 ],
 "metadata": {
  "kernelspec": {
   "display_name": "Python 3 (ipykernel)",
   "language": "python",
   "name": "python3"
  },
  "language_info": {
   "codemirror_mode": {
    "name": "ipython",
    "version": 3
   },
   "file_extension": ".py",
   "mimetype": "text/x-python",
   "name": "python",
   "nbconvert_exporter": "python",
   "pygments_lexer": "ipython3",
   "version": "3.10.9"
  }
 },
 "nbformat": 4,
 "nbformat_minor": 5
}
