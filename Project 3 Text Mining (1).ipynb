{
 "cells": [
  {
   "cell_type": "markdown",
   "id": "129a568e-e7c5-4a0d-ad23-f5bbcc36b55a",
   "metadata": {},
   "source": [
    "# Project # 3 - Text Mining\n",
    "Data file:\n",
    "* https://raw.githubusercontent.com/vjavaly/Baruch-CIS-STA-3920/main/data/Seattle_hotels.csv"
   ]
  },
  {
   "cell_type": "markdown",
   "id": "400d7ee8-da33-443f-b268-8a65ed155949",
   "metadata": {},
   "source": [
    "## Project #3 Requirements\n",
    "* Load data and examine data\n",
    "* Clean data: 1) remove punctuation, 2) lowercase, 3) stem or lemmatize\n",
    "* Vectorize cleaned data\n",
    "* Generate similarities matrix\n",
    "* Generate hotel recommendations for the 3 listed hotels\n",
    "  * Motel 6 Seattle Sea-Tac Airport South\n",
    "  * The Bacon Mansion Bed and Breakfast\n",
    "  * Holiday Inn Seattle Downtown"
   ]
  },
  {
   "cell_type": "code",
   "execution_count": 1,
   "id": "d9f32f4a-632e-4536-a834-0925b4fb412c",
   "metadata": {},
   "outputs": [
    {
     "name": "stdout",
     "output_type": "stream",
     "text": [
      "Run time: 11/10/23 13:38:27\n"
     ]
    }
   ],
   "source": [
    "from datetime import datetime\n",
    "print(f'Run time: {datetime.now().strftime(\"%D %T\")}')"
   ]
  },
  {
   "cell_type": "markdown",
   "id": "ba1b07f9",
   "metadata": {},
   "source": [
    "### Import libraries"
   ]
  },
  {
   "cell_type": "code",
   "execution_count": 2,
   "id": "2ac5b562",
   "metadata": {},
   "outputs": [],
   "source": [
    "import pandas as pd\n",
    "import re\n",
    "import string\n",
    "from nltk.stem import PorterStemmer\n",
    "from nltk.tokenize import word_tokenize\n",
    "from nltk.corpus import stopwords\n",
    "from sklearn.feature_extraction.text import TfidfVectorizer\n",
    "from sklearn.metrics.pairwise import cosine_similarity"
   ]
  },
  {
   "cell_type": "markdown",
   "id": "3252fbd0",
   "metadata": {},
   "source": [
    "### Load data"
   ]
  },
  {
   "cell_type": "code",
   "execution_count": 3,
   "id": "dd4d3fc9",
   "metadata": {},
   "outputs": [],
   "source": [
    "df = pd.read_csv(\"https://raw.githubusercontent.com/vjavaly/Baruch-CIS-STA-3920/main/data/Seattle_hotels.csv\")"
   ]
  },
  {
   "cell_type": "markdown",
   "id": "3458cc61",
   "metadata": {},
   "source": [
    "### Examine data"
   ]
  },
  {
   "cell_type": "code",
   "execution_count": 4,
   "id": "5bb053c0-264e-43dc-aec7-c92b8bf46022",
   "metadata": {},
   "outputs": [
    {
     "name": "stdout",
     "output_type": "stream",
     "text": [
      "                             name  \\\n",
      "0  Hilton Garden Seattle Downtown   \n",
      "1          Sheraton Grand Seattle   \n",
      "2   Crowne Plaza Seattle Downtown   \n",
      "3   Kimpton Hotel Monaco Seattle    \n",
      "4              The Westin Seattle   \n",
      "\n",
      "                                           address  \\\n",
      "0  1821 Boren Avenue, Seattle Washington 98101 USA   \n",
      "1   1400 6th Avenue, Seattle, Washington 98101 USA   \n",
      "2                  1113 6th Ave, Seattle, WA 98101   \n",
      "3                   1101 4th Ave, Seattle, WA98101   \n",
      "4   1900 5th Avenue,�Seattle,�Washington�98101�USA   \n",
      "\n",
      "                                                desc  \n",
      "0  Located on the southern tip of Lake Union, the...  \n",
      "1  Located in the city's vibrant core, the Sherat...  \n",
      "2  Located in the heart of downtown Seattle, the ...  \n",
      "3  What?s near our hotel downtown Seattle locatio...  \n",
      "4  Situated amid incredible shopping and iconic a...  \n"
     ]
    }
   ],
   "source": [
    "print(df.head())"
   ]
  },
  {
   "cell_type": "code",
   "execution_count": 5,
   "id": "1f25522e",
   "metadata": {},
   "outputs": [
    {
     "name": "stdout",
     "output_type": "stream",
     "text": [
      "(152, 3)\n"
     ]
    }
   ],
   "source": [
    "print(df.shape)"
   ]
  },
  {
   "cell_type": "code",
   "execution_count": 6,
   "id": "2453a725",
   "metadata": {},
   "outputs": [
    {
     "name": "stdout",
     "output_type": "stream",
     "text": [
      "Index(['name', 'address', 'desc'], dtype='object')\n"
     ]
    }
   ],
   "source": [
    "print(df.columns)"
   ]
  },
  {
   "cell_type": "code",
   "execution_count": 7,
   "id": "ff76b5ab",
   "metadata": {
    "scrolled": true
   },
   "outputs": [
    {
     "name": "stdout",
     "output_type": "stream",
     "text": [
      "                                  name  \\\n",
      "count                              152   \n",
      "unique                             152   \n",
      "top     Hilton Garden Seattle Downtown   \n",
      "freq                                 1   \n",
      "\n",
      "                                                address  \\\n",
      "count                                               152   \n",
      "unique                                              152   \n",
      "top     1821 Boren Avenue, Seattle Washington 98101 USA   \n",
      "freq                                                  1   \n",
      "\n",
      "                                                     desc  \n",
      "count                                                 152  \n",
      "unique                                                152  \n",
      "top     Located on the southern tip of Lake Union, the...  \n",
      "freq                                                    1  \n"
     ]
    }
   ],
   "source": [
    "print(df.describe())"
   ]
  },
  {
   "cell_type": "code",
   "execution_count": 8,
   "id": "c53b0cd8",
   "metadata": {},
   "outputs": [
    {
     "name": "stdout",
     "output_type": "stream",
     "text": [
      "name       object\n",
      "address    object\n",
      "desc       object\n",
      "dtype: object\n"
     ]
    }
   ],
   "source": [
    "print(df.dtypes)"
   ]
  },
  {
   "cell_type": "code",
   "execution_count": 9,
   "id": "c1b7bcd0",
   "metadata": {},
   "outputs": [
    {
     "name": "stdout",
     "output_type": "stream",
     "text": [
      "<class 'pandas.core.frame.DataFrame'>\n",
      "RangeIndex: 152 entries, 0 to 151\n",
      "Data columns (total 3 columns):\n",
      " #   Column   Non-Null Count  Dtype \n",
      "---  ------   --------------  ----- \n",
      " 0   name     152 non-null    object\n",
      " 1   address  152 non-null    object\n",
      " 2   desc     152 non-null    object\n",
      "dtypes: object(3)\n",
      "memory usage: 3.7+ KB\n",
      "None\n"
     ]
    }
   ],
   "source": [
    "print(df.info())"
   ]
  },
  {
   "cell_type": "markdown",
   "id": "7afe5462",
   "metadata": {},
   "source": [
    "### Prepare data"
   ]
  },
  {
   "cell_type": "code",
   "execution_count": 10,
   "id": "1d315d79-940b-4b20-bfc8-5fed2fb75274",
   "metadata": {
    "scrolled": true,
    "tags": []
   },
   "outputs": [
    {
     "name": "stdout",
     "output_type": "stream",
     "text": [
      "                                        name  \\\n",
      "0             Hilton Garden Seattle Downtown   \n",
      "1                     Sheraton Grand Seattle   \n",
      "2              Crowne Plaza Seattle Downtown   \n",
      "3              Kimpton Hotel Monaco Seattle    \n",
      "4                         The Westin Seattle   \n",
      "..                                       ...   \n",
      "147                The Halcyon Suite Du Jour   \n",
      "148                              Vermont Inn   \n",
      "149               Stay Alfred on Wall Street   \n",
      "150       Pike's Place Lux Suites by Barsala   \n",
      "151  citizenM Seattle South Lake Union hotel   \n",
      "\n",
      "                                                  desc  \n",
      "0    Located on the southern tip of Lake Union, the...  \n",
      "1    Located in the city's vibrant core, the Sherat...  \n",
      "2    Located in the heart of downtown Seattle, the ...  \n",
      "3    What?s near our hotel downtown Seattle locatio...  \n",
      "4    Situated amid incredible shopping and iconic a...  \n",
      "..                                                 ...  \n",
      "147  Located in Queen Anne district, The Halcyon Su...  \n",
      "148  Just a block from the world famous Space Needl...  \n",
      "149  Stay Alfred on Wall Street resides in the hear...  \n",
      "150  The perfect marriage of heightened convenience...  \n",
      "151  Yes, it's true. Every room at citizenM is the ...  \n",
      "\n",
      "[152 rows x 2 columns]\n"
     ]
    }
   ],
   "source": [
    "df = df.drop(columns=['address'])\n",
    "print(df)"
   ]
  },
  {
   "cell_type": "markdown",
   "id": "db610a42-e9e5-49a1-9443-96e290ba3e6c",
   "metadata": {},
   "source": [
    "#### Clean column hotel descriptions\n",
    "1) remove punctuation\n",
    "2) lowercase text\n",
    "3) either stem or lemmatize text"
   ]
  },
  {
   "cell_type": "code",
   "execution_count": 11,
   "id": "fe93ef21",
   "metadata": {},
   "outputs": [],
   "source": [
    "def remove_punctuation(text):\n",
    "    return ''.join([char for char in text if char not in string.punctuation])\n",
    "\n",
    "df['step1'] = df['desc'].apply(remove_punctuation)"
   ]
  },
  {
   "cell_type": "code",
   "execution_count": 12,
   "id": "218f1603",
   "metadata": {
    "scrolled": true,
    "tags": []
   },
   "outputs": [],
   "source": [
    "def to_lowercase(text):\n",
    "    return text.lower()\n",
    "\n",
    "df['step2'] = df['step1'].apply(to_lowercase)"
   ]
  },
  {
   "cell_type": "code",
   "execution_count": 13,
   "id": "82de6ebd",
   "metadata": {},
   "outputs": [],
   "source": [
    "def stem_or_lemmatize(text, use_stemmer=True):\n",
    "    if use_stemmer:\n",
    "        stemmer = PorterStemmer()\n",
    "        tokens = word_tokenize(text)\n",
    "        tokens = [stemmer.stem(word) for word in tokens]\n",
    "        return ' '.join(tokens)\n",
    "    else:\n",
    "        lemmatizer = WordNetLemmatizer()\n",
    "        tokens = word_tokenize(text)\n",
    "        tokens = [lemmatizer.lemmatize(word) for word in tokens]\n",
    "        return ' '.join(tokens)"
   ]
  },
  {
   "cell_type": "markdown",
   "id": "80842fc8-4657-48ef-ade6-7aad846adb54",
   "metadata": {},
   "source": [
    "#### Display updated dataframe"
   ]
  },
  {
   "cell_type": "code",
   "execution_count": 14,
   "id": "bda92252",
   "metadata": {
    "scrolled": true
   },
   "outputs": [
    {
     "name": "stderr",
     "output_type": "stream",
     "text": [
      "[nltk_data] Downloading package punkt to\n",
      "[nltk_data]     /Users/jinwoorhee/nltk_data...\n",
      "[nltk_data]   Package punkt is already up-to-date!\n"
     ]
    },
    {
     "name": "stdout",
     "output_type": "stream",
     "text": [
      "0      locat on the southern tip of lake union the hi...\n",
      "1      locat in the citi vibrant core the sheraton gr...\n",
      "2      locat in the heart of downtown seattl the awar...\n",
      "3      what near our hotel downtown seattl locat the ...\n",
      "4      situat amid incred shop and icon attract the w...\n",
      "                             ...                        \n",
      "147    locat in queen ann district the halcyon suit d...\n",
      "148    just a block from the world famou space needl ...\n",
      "149    stay alfr on wall street resid in the heart of...\n",
      "150    the perfect marriag of heighten conveni and un...\n",
      "151    ye it true everi room at citizenm is the best ...\n",
      "Name: desc_cleaned, Length: 152, dtype: object\n"
     ]
    }
   ],
   "source": [
    "import nltk\n",
    "nltk.download('punkt')\n",
    "use_stemming = True\n",
    "\n",
    "# Apply the cleaning functions and create a new column\n",
    "df['desc_cleaned'] = df['step2'].apply(lambda text: stem_or_lemmatize(text, use_stemming))\n",
    "\n",
    "# Display the cleaned data\n",
    "print(df['desc_cleaned'])"
   ]
  },
  {
   "cell_type": "markdown",
   "id": "6209df9d",
   "metadata": {},
   "source": [
    "### Vectorize cleaned hotel descriptions"
   ]
  },
  {
   "cell_type": "code",
   "execution_count": 15,
   "id": "c5955795",
   "metadata": {},
   "outputs": [
    {
     "name": "stdout",
     "output_type": "stream",
     "text": [
      "      10       100  1000  10000  103000  109  109room  10best   10minut  \\\n",
      "0    0.0  0.000000   0.0    0.0     0.0  0.0      0.0     0.0  0.000000   \n",
      "1    0.0  0.000000   0.0    0.0     0.0  0.0      0.0     0.0  0.000000   \n",
      "2    0.0  0.000000   0.0    0.0     0.0  0.0      0.0     0.0  0.000000   \n",
      "3    0.0  0.000000   0.0    0.0     0.0  0.0      0.0     0.0  0.000000   \n",
      "4    0.0  0.000000   0.0    0.0     0.0  0.0      0.0     0.0  0.000000   \n",
      "..   ...       ...   ...    ...     ...  ...      ...     ...       ...   \n",
      "147  0.0  0.063154   0.0    0.0     0.0  0.0      0.0     0.0  0.157663   \n",
      "148  0.0  0.115977   0.0    0.0     0.0  0.0      0.0     0.0  0.000000   \n",
      "149  0.0  0.000000   0.0    0.0     0.0  0.0      0.0     0.0  0.000000   \n",
      "150  0.0  0.000000   0.0    0.0     0.0  0.0      0.0     0.0  0.000000   \n",
      "151  0.0  0.000000   0.0    0.0     0.0  0.0      0.0     0.0  0.000000   \n",
      "\n",
      "     10night  ...     youll      your  yourself  youth     yummi  zagat  \\\n",
      "0        0.0  ...  0.000000  0.033152       0.0    0.0  0.000000    0.0   \n",
      "1        0.0  ...  0.000000  0.034391       0.0    0.0  0.000000    0.0   \n",
      "2        0.0  ...  0.073959  0.000000       0.0    0.0  0.000000    0.0   \n",
      "3        0.0  ...  0.000000  0.000000       0.0    0.0  0.000000    0.0   \n",
      "4        0.0  ...  0.000000  0.038122       0.0    0.0  0.000000    0.0   \n",
      "..       ...  ...       ...       ...       ...    ...       ...    ...   \n",
      "147      0.0  ...  0.000000  0.000000       0.0    0.0  0.000000    0.0   \n",
      "148      0.0  ...  0.089081  0.091179       0.0    0.0  0.000000    0.0   \n",
      "149      0.0  ...  0.000000  0.076613       0.0    0.0  0.121641    0.0   \n",
      "150      0.0  ...  0.117040  0.000000       0.0    0.0  0.000000    0.0   \n",
      "151      0.0  ...  0.045517  0.186359       0.0    0.0  0.000000    0.0   \n",
      "\n",
      "     zephyr  zipcar      zone  zoo  \n",
      "0       0.0     0.0  0.000000  0.0  \n",
      "1       0.0     0.0  0.000000  0.0  \n",
      "2       0.0     0.0  0.000000  0.0  \n",
      "3       0.0     0.0  0.000000  0.0  \n",
      "4       0.0     0.0  0.000000  0.0  \n",
      "..      ...     ...       ...  ...  \n",
      "147     0.0     0.0  0.000000  0.0  \n",
      "148     0.0     0.0  0.000000  0.0  \n",
      "149     0.0     0.0  0.000000  0.0  \n",
      "150     0.0     0.0  0.000000  0.0  \n",
      "151     0.0     0.0  0.069657  0.0  \n",
      "\n",
      "[152 rows x 2752 columns]\n"
     ]
    }
   ],
   "source": [
    "cleaned_text = df['desc_cleaned']\n",
    "tfidf_vectorizer = TfidfVectorizer()\n",
    "tfidf_matrix = tfidf_vectorizer.fit_transform(cleaned_text)\n",
    "tfidf_df = pd.DataFrame(tfidf_matrix.toarray(), columns=tfidf_vectorizer.get_feature_names_out())\n",
    "print(tfidf_df)"
   ]
  },
  {
   "cell_type": "code",
   "execution_count": null,
   "id": "1530be6f",
   "metadata": {},
   "outputs": [],
   "source": []
  },
  {
   "cell_type": "markdown",
   "id": "8478bff0",
   "metadata": {},
   "source": [
    "### Generate similarities matrix on cleaned hotel descriptions"
   ]
  },
  {
   "cell_type": "code",
   "execution_count": 16,
   "id": "1ac7a5e3",
   "metadata": {},
   "outputs": [
    {
     "name": "stdout",
     "output_type": "stream",
     "text": [
      "          0         1         2         3         4         5         6    \\\n",
      "0    1.000000  0.204004  0.242663  0.157574  0.283405  0.250509  0.209805   \n",
      "1    0.204004  1.000000  0.179680  0.132857  0.232243  0.178648  0.158034   \n",
      "2    0.242663  0.179680  1.000000  0.115171  0.217613  0.178156  0.160445   \n",
      "3    0.157574  0.132857  0.115171  1.000000  0.193410  0.213950  0.160997   \n",
      "4    0.283405  0.232243  0.217613  0.193410  1.000000  0.243606  0.187601   \n",
      "..        ...       ...       ...       ...       ...       ...       ...   \n",
      "147  0.131941  0.097382  0.097513  0.094734  0.131270  0.141449  0.075832   \n",
      "148  0.163753  0.151492  0.190590  0.108045  0.168909  0.202738  0.124185   \n",
      "149  0.223970  0.174066  0.221418  0.128916  0.192328  0.197694  0.155560   \n",
      "150  0.101081  0.071346  0.095523  0.086470  0.151553  0.088760  0.044619   \n",
      "151  0.123778  0.092845  0.119354  0.074897  0.101220  0.131381  0.102740   \n",
      "\n",
      "          7         8         9    ...       142       143       144  \\\n",
      "0    0.223786  0.159551  0.221393  ...  0.283449  0.151488  0.131957   \n",
      "1    0.168624  0.112313  0.168026  ...  0.161158  0.113943  0.094272   \n",
      "2    0.193929  0.158788  0.165424  ...  0.190180  0.145578  0.078441   \n",
      "3    0.204166  0.148958  0.153042  ...  0.247501  0.085264  0.133428   \n",
      "4    0.260452  0.172160  0.197307  ...  0.202485  0.116550  0.131947   \n",
      "..        ...       ...       ...  ...       ...       ...       ...   \n",
      "147  0.127345  0.115733  0.090491  ...  0.157528  0.054263  0.087513   \n",
      "148  0.144835  0.098342  0.115497  ...  0.184181  0.122333  0.081751   \n",
      "149  0.227277  0.142083  0.170806  ...  0.241660  0.159127  0.118498   \n",
      "150  0.095580  0.069495  0.084344  ...  0.109696  0.091484  0.062936   \n",
      "151  0.130233  0.071926  0.147566  ...  0.141795  0.105899  0.058908   \n",
      "\n",
      "          145       146       147       148       149       150       151  \n",
      "0    0.045784  0.239963  0.131941  0.163753  0.223970  0.101081  0.123778  \n",
      "1    0.032629  0.174378  0.097382  0.151492  0.174066  0.071346  0.092845  \n",
      "2    0.086606  0.224855  0.097513  0.190590  0.221418  0.095523  0.119354  \n",
      "3    0.011606  0.156971  0.094734  0.108045  0.128916  0.086470  0.074897  \n",
      "4    0.035244  0.208710  0.131270  0.168909  0.192328  0.151553  0.101220  \n",
      "..        ...       ...       ...       ...       ...       ...       ...  \n",
      "147  0.021031  0.159611  1.000000  0.093394  0.112904  0.072003  0.111421  \n",
      "148  0.095548  0.181117  0.093394  1.000000  0.132034  0.086115  0.120442  \n",
      "149  0.054128  0.202662  0.112904  0.132034  1.000000  0.111066  0.139054  \n",
      "150  0.021318  0.101580  0.072003  0.086115  0.111066  1.000000  0.052820  \n",
      "151  0.022844  0.154935  0.111421  0.120442  0.139054  0.052820  1.000000  \n",
      "\n",
      "[152 rows x 152 columns]\n"
     ]
    }
   ],
   "source": [
    "cleaned_text = df['desc_cleaned']\n",
    "tfidf_vectorizer = TfidfVectorizer()\n",
    "tfidf_matrix = tfidf_vectorizer.fit_transform(cleaned_text)\n",
    "cosine_sim_matrix = cosine_similarity(tfidf_matrix, tfidf_matrix)\n",
    "cosine_sim_df = pd.DataFrame(cosine_sim_matrix, index=df.index, columns=df.index)\n",
    "print(cosine_sim_df)"
   ]
  },
  {
   "cell_type": "code",
   "execution_count": null,
   "id": "7949947f",
   "metadata": {},
   "outputs": [],
   "source": []
  },
  {
   "cell_type": "markdown",
   "id": "181ed2b7",
   "metadata": {},
   "source": [
    "### Create hotel recommender"
   ]
  },
  {
   "cell_type": "code",
   "execution_count": 17,
   "id": "c8ef3665",
   "metadata": {},
   "outputs": [],
   "source": [
    "def get_hotel_recommendations(hotel_name, num_recommendations=5):\n",
    "    hotel_index = df[df['name'] == hotel_name].index[0]\n",
    "    similarities = cosine_sim_df.iloc[hotel_index]\n",
    "    recommendations = similarities.drop(hotel_index)\n",
    "    top_recommendations = recommendations.nlargest(num_recommendations)\n",
    "\n",
    "    recommended_hotels = []\n",
    "    for i, similarity in top_recommendations.items():\n",
    "        recommended_hotels.append({\n",
    "            \"Hotel Name\": df.loc[i]['name'],\n",
    "            \"Similarity Score\": similarity,\n",
    "            \"Hotel Description\": df.loc[i]['desc_cleaned']\n",
    "        })\n",
    "\n",
    "    for recommendation in recommended_hotels:\n",
    "        print(\"Hotel Name:\", recommendation[\"Hotel Name\"])\n",
    "        print(\"Similarity Score:\", round(recommendation[\"Similarity Score\"], 4))\n",
    "        print(\"Hotel Description:\", recommendation[\"Hotel Description\"])\n",
    "        print()\n",
    "        "
   ]
  },
  {
   "cell_type": "markdown",
   "id": "8a886324",
   "metadata": {},
   "source": [
    "### Make hotel recommendations for the following hotel names:\n",
    "* Motel 6 Seattle Sea-Tac Airport South\n",
    "* The Bacon Mansion Bed and Breakfast\n",
    "* Holiday Inn Seattle Downtown"
   ]
  },
  {
   "cell_type": "code",
   "execution_count": 18,
   "id": "168830e3",
   "metadata": {},
   "outputs": [
    {
     "name": "stdout",
     "output_type": "stream",
     "text": [
      "Hotel Name: Ramada by Wyndham SeaTac Airport\n",
      "Similarity Score: 0.3766\n",
      "Hotel Description: explor the puget sound is easi when you make a reserv at our ramada seatac airport hotel locat off i5 our seatac set near the museum of flight place you within minut of great restaur and top attract seattl tacoma intern airport sea is a quick threeminut drive from our front door start your morn with a fullservic breakfast check the headlin with a free usa today and repli to email with free wifi leisur facil includ a fit center and heat outdoor pool all of our guestroom are wellequip with a coffe maker safe and free hbo kitchenett and suit with jet hot tub provid extra space and amen for extend stay 100 nonsmok and access accommod are also avail take advantag of our free airport shuttl servic park avail for a nomin fee\n",
      "\n",
      "Hotel Name: Red Roof Inn Seattle Airport - SEATAC\n",
      "Similarity Score: 0.3223\n",
      "Hotel Description: red roof inn seattl airport seatac is a 100 smokefre petfriendli hotel in seattl that� less than a half mile away from the seattl � tacoma intern airport we are also locat near the southcent mall safeco field centurylink field the museum of pop cultur the museum of flight the seattl art museum wing luke museum the space needl key arena and the highlin commun medic center what make us stand out among the budget hotel in seattl is that we offer free verifi wifi a free airport shuttl and an onsit fit center car park is avail for overnight guest at red roof inn seattl airport seatac for onli 10night red roof inn seattl airport seatac is onli minut away from travel to and from the seattl � tacoma intern airport we offer a free 24hour shuttl to and from the airport as well as easi access to i5i405 shop the latest trend at south center mall locat less than two mile away experi the space needl one of seattle� histor landmark cheer on your favorit sport team at safeco field home of the seattl marin as well as centurylink field home of the seattl seahawk check out the museum exhibit seattl ha to offer such as the museum of pop cultur the museum of flight the seattl art museum and wing luke museum take just a short drive to enjoy a live concert at key arena we are also close to the health facil at the highlin commun medic center after a day fill with adventur check into our familyfriendli hotel by speak with our pleasant bilingu staff sit back and enjoy all of the amen thi red roof in seattl ha to offer includ our free wifi and expand cabl packag make time for a workout at our onsit fit facil and help yourself to our guest coin laundri stop by our lobbi and enjoy a hot cup of coffe or tea and purchas a snack from our snack center at red roof inn seattl airport seatac your pet can stay the night at no extra cost shuttl inform take advantag of our complimentari airport shuttl to and from the airport shuttl servic run everi 20 minut 4am � 12pm noon daili outsid of thi timefram the shuttl run on demand for more inform pleas call the hotel directli about your specif pickupdropoff locat and time\n",
      "\n",
      "Hotel Name: Four Points by Sheraton Seattle Airport South\n",
      "Similarity Score: 0.312\n",
      "Hotel Description: you will love our locat nearbi you can enjoy great shop and entertain at westfield southcent mall dine on the south puget sound waterfront and local park and trail our hotel is three mile from seattletacoma intern airport sea and link light rail to downtown seattl and offer a free 24hour shuttl servic to both we are conveni locat just off i5 and highway 99 25 minut from both seattl and tacoma\n",
      "\n",
      "Hotel Name: Emerald Motel\n",
      "Similarity Score: 0.3079\n",
      "Hotel Description: emerald motel seattl is locat in the northgat district in seattl 11 km from seattl center free privat park is avail on siteeach room at thi motel is air condit and ha a flatscreen tv everi room ha a privat bathroom equip with a bath or shower emerald motel featur free wifi there is a 24hour front desk at the properti space needl is 11 km from emerald motel seattl while pike place market is 12 km from the properti seatac airport is 31 km away\n",
      "\n",
      "Hotel Name: La Quinta by Wyndham Seattle Sea-Tac Airport\n",
      "Similarity Score: 0.2862\n",
      "Hotel Description: locat south of downtown seattl our hotel wa name a 2012 tripadvisor certif of excel winner sit between tacoma and seattl our locat couldn�t be better for the savvi travel there� access to great shop and a varieti of restaur easi access to the citi is great for time save and our relax outdoor swim pool is perfect for entertain the famili while you conduct busi take a short drive into seattl to sightse or shop in one of the most divers citi in the pacif northwest our comfort guest room are equip with highspe internet allow for quick and wellinform plan of your itinerari there are great attract nearbi such as the�museum of flight six flag enchant park pike place market and safeco field�we�r perfectli locat to suit your travel need whether you�r stay for busi or pleasur our awardwin hotel is sure to make your trip a pleasant one wake up to our free bright side breakfast� and enjoy our all youcandrink coffe and juic we�v newli ad samsung flatpanel tv that offer plugandplay compat for your favorit electron devic with 30 hd channel to choos from you�ll have no problem find someth to watch and our beauti outdoor swim pool provid a great escap from a long day of travel our hotel is close to downtown seattl and just a few block from the airport use our no stress shuttl servic to visit the citi and enjoy a varieti of attract and shop option you can even conduct your busi on site by use our busi center we�r on the northwestern corner of south 188th street and intern blvd and just one mile west of i5 with limit onsit park while you are a guest of our hotel and weekli park is avail with our stay and go packag so you can leav your car with us and pick it up on your return\n",
      "\n"
     ]
    }
   ],
   "source": [
    "hotel_name = \"Motel 6 Seattle Sea-Tac Airport South\"\n",
    "get_hotel_recommendations(hotel_name)"
   ]
  },
  {
   "cell_type": "code",
   "execution_count": 19,
   "id": "2aa3cd8d",
   "metadata": {},
   "outputs": [
    {
     "name": "stdout",
     "output_type": "stream",
     "text": [
      "Hotel Name: Shafer Baillie Mansion Bed & Breakfast\n",
      "Similarity Score: 0.4101\n",
      "Hotel Description: look for the perfect bed and breakfast in seattl wa the shafer bailli mansion is a magnific 14000squarefoot tudor reviv home where you will find the graciou atmospher of a bygon era with the�comfort and amenities�that today� travel need all ideal situat on capitol hill in seattl washington our capitol hill neighborhood is ideal situat for both busi and vacat travel just a block from volunt park the crown jewel of the seattl park system you will be a short walk from restaur and shop on broadway or even closer to the busi district on 15th avenu east downtown seattl is a quick bu ride fiveminut car trip or 20minut walk away we are minut by bu car or taxi to the waterfront pike place market seattl center space needl experi music project etc univers of washington seattl univers all major seattl hospit and medic center museum music and theater venu and much more shafer bailli mansion is the largest of the majest home on 14th avenu east seattle� renown origin millionaires� row featur on the hgtv program dream drive although near the hub of activ our is a quiet residenti street of larg tree and graciou hous insid you will be embrac in opul like the rich and famou of yesteryear the handsomelyappoint entri hall envelop you in quartersawn oak panel with ornatelycarv detail the state staircas is straight out of central cast for the perfect bridal moment savor a quiet convers nestl in the leather furnitur of the librari relax with a cup of tea or coffe avail 24 hour in the bright and airi sunroom tickl the ivori of our babi grand piano amidst the warmth of the mahogani appoint in the grand salon breakfast is enjoy in the expans oakpanel dine room and our eight guest room and suit each with privat bath are decor and furnish in period style with eclect antiqu and reproduct our guests� comment tell you all you would ever need to know about the warmth and hospit you will find at shafer bailli mansion the goal of owner and host ana lena melka and mark mayhl is for the mansion to be the home away from home of your dream thought touch abound from high threadcount handpress cotton linen seren rest bed and rich orient rug to larg flatscreen televis wire and wireless highspe internet with both cabl modem and dsl servic for greater speed and reliabl and person telephon extens with privat voicemail our expand continent breakfast includ item such as roll and pastri hot and cold cereal yogurt chees smoke salmon prosciutto ham hardboil egg fresh fruit juic and hot beverag is serv over extend hour to meet your schedul whether you are a busi travel up at the crack of dawn vacation relish the chanc to sleep in or a coupl seek a romant getaway need a restaur recommend or advic plan the day� activ we are here to help\n",
      "\n",
      "Hotel Name: 11th Avenue Inn Bed and Breakfast\n",
      "Similarity Score: 0.3974\n",
      "Hotel Description: walk to the pike place market and to the other downtown seattl attract from the 11th avenu inn bed and breakfast a cozi bb on a treelin side street in seattl capitol hill neighborhood we are 2 block from the capitol hill link light rail subway station 10 mile from downtown seattl a 20 minut walk and 15 mile from the pike place market a 30 minut walk most of our guest walk to downtown buse to downtown seattl also stop one block from the inn were near dozen of restaur shop and a popular park� the inn ha 10 uniqu guestroom each with a queen bed and privat bathroom stay where the local live yet close to downtown seattl the 11th avenu inn bed and breakfast is a larg classic lightfil hous built in 1906 and locat on a street of tree and other hous and apart from the turn of the centuri the inn ha origin wood floor and detail antiqu furnitur and orient rug we are locat just up the hill from the seattl hotel district � the area where most tourist and busi travel stay in seattl most of our guest are visit friend or famili here in the capitol hill neighborhood or are visitor to town or busi travel look for an altern to the downtown hotel district\n",
      "\n",
      "Hotel Name: WorldMark Seattle - The Camlin\n",
      "Similarity Score: 0.3365\n",
      "Hotel Description: locat across the street from the washington state convent center and paramount theatr worldmark seattl the camlin is just three block away from the vibrant 6th avenu and pine street shop district you�ll find worldclass dine option plu all of the attract of seattl surround you like the live pike place market seattl center the space needl safeco field and the fabul waterfront where you may catch a glimps of famou ship and largerthanlif marin anim ventur just 30 minut outsid the citi to experi an endless select of mountain and park that offer both oceansid and wood hike trail with waterfal and some of the most breathtak sceneri the pacif northwest ha to offer histor known as a popular resort among the celebr worldmark seattl the camlin ha a long and distinguish histori within seattl emerald citi it wa first built in 1926 as a residenti hotel and later renov in 1962 over the year mani celebr have pass through the eleg lobbi frequent the loung that onc fill the top floor meticul effort have went into retain the charm that ha made thi build such a belov fixtur in downtown seattl modern comfort and amen throughout thi kidfriendli urban resort will leav you and your famili feel relax and refresh offer spaciou studio one and twobedroom resort suit that comfort sleep two to six guest in 258 810 squar feet resort suit featur one queen bed in the master two twin bed or one queen bed in the guest room and a queen murphi bed in the live area studio suit will either have one murphi bed or one queen bed in the master and one murphi bed in the live area most featur privat bedroom separ diningliv area and a kitchenett upgrad to a delux or penthous resort suit for a washerdry air condit and a privat balconi while the suit amen are invit enough to make you want to loung around after a day full of excit and adventur you will also appreci the abund of resort amen avail on site stay refresh in the yearround heat pool and unwind in the hot tub your workout routin will stay on track with the fit center also you will be grin from ear to ear when when your save money and creat memori by grill out at the barbecu station wrap up ani work project in the busi center and let the kid enjoy all the fun the activ program ha to offer plu there is an onsit concierg that is happi to help you coordin ani travel plan with so much to see and do you wont want to miss a singl opportun to come back to worldmark seattl the camlin\n",
      "\n",
      "Hotel Name: Gaslight Inn\n",
      "Similarity Score: 0.3196\n",
      "Hotel Description: the gaslight inn a bed and breakfast in seattl is conveni locat on capitol hill which is the city� most excit neighborhood that also happen to be closest to the center of the citi and onli about 20 minut north from the airport all of seattle� main attract includ pike place market are either in walk distanc a short taxi ride or a metro bu ride away the gaslight inn� interior is appoint in exact detail award with landmark statu by the citi of seattl in octob 2015 with strikingli rich dark color oak panel and an enorm entryway and staircas the comfort and uniqu guestroom are furnish with qualiti doubl or queensiz bed refriger and televis mani room in our bed and breakfast featur privat bath and some also have deck with fabul view or fireplac the live room with it larg oak fireplac is alway an invit room as is the librari through the late spring and summer we encourag you to relax and unwind at poolsid with a glass of wine after a long busi day thi privat inground heat pool with sever deck and interest plant arrang is found at the back of the inn the gaslight ha high speed wifi for all it� guest at no extra cost our aim at the gaslight inn is to provid qualiti bed breakfast accommod in a relax atmospher at a sensibl rate and to offer guest whether they are visit for pleasur or on busi use inform and assist when need our continent breakfast featur coffe tea assort season fruit yogurt chees hardboil egg croissant and an addit morn bread it will get your day in seattl off to a great start\n",
      "\n",
      "Hotel Name: Silver Cloud Hotel - Seattle Broadway\n",
      "Similarity Score: 0.2991\n",
      "Hotel Description: locat in the trendi capitol hill neighborhood the silver cloud hotel seattl � broadway is directli across the street from seattl univers and swedish medic center our hotel near downtown seattl is design with both the busi and leisur travel in mind all room includ complimentari highspe wire and wireless internet access microwav and refriger our capitol hill hotel also featur a fit facil and busi center with downtown seattl onli nine block away the local area shuttl can take you to some of the city� finest restaur shop and theater in just minut in addit be sure to stop by the city� bustl pike place market dure your stay the silver cloud hotel seattl � broadway is proud to present our restaur jimmy� on broadway build on the success of jimmy� on first at our stadium properti jimmy� on broadway offer the same energet atmospher and culinari experi featur fullservic breakfast lunch and dinner seven day a week\n",
      "\n"
     ]
    }
   ],
   "source": [
    "hotel_name = \"The Bacon Mansion Bed and Breakfast\"\n",
    "recommendations = get_hotel_recommendations(hotel_name)"
   ]
  },
  {
   "cell_type": "code",
   "execution_count": 20,
   "id": "8179a628",
   "metadata": {},
   "outputs": [
    {
     "name": "stdout",
     "output_type": "stream",
     "text": [
      "Hotel Name: Holiday Inn Express & Suites Seattle-City Center\n",
      "Similarity Score: 0.4876\n",
      "Hotel Description: discov all that seattl ha to offer at the�holiday inn express�� suit seattl citi center our hotel locat is in the heart of downtown shop dine and entertain district you are sure to have a memor trip when you stay with us busi travel find mani of the area major compani are near our hotelamazon microsoft boe and starbuck corpor are all just a few minut away we are also close to the univers of washington seattl univers and the washington state convent center is a mile from our hotel we featur busi amen like free highspe internet access and busi center youll find mani of seattl most popular attract within a few mile of our hotel the famou space needl experi music project and key arena are all just a few block away in seattl citi center our hotel locat is also near safeco and centurylink field as well as seattl waterfront whether your visit seattl for work or fun we are the perfect home away from home we offer park for standards vehicl at 21 per night we also have a 24hour fit center heat indoor pool and complimentari express start breakfast bar serv each morn come see whi travel prefer the holiday inn express suit to other downtown seattl hotel make your reserv today\n",
      "\n",
      "Hotel Name: Holiday Inn Express & Suites North Seattle - Shoreline\n",
      "Similarity Score: 0.4129\n",
      "Hotel Description: guest of our�holiday inn express hotel suit seattl enjoy conveni without big citi congest seven mile north of downtown seattl our hotel easi access to i5 is perfect for commut to lead busi or simpli sampl seattl sight and sound if busi bring you to the emerald citi your not alon the corpor headquart of microsoft starbuck washington mutual and boe commerci aircraft are an easi drive of our hotel site and in seattl wa youll be close to the washington state convent trade center as well if your travel to the citi for leisur youll be happi to know that seattl provid mani attract that promis to make your visit memor our hotel guest in seattl wa love spend time along the seattl waterfront and enjoy pike place market seattl aquarium and variou ferri tour among the mani attract just seven mile from our front door the icon space needl offer a oneofakind view of seattl as well regardless of the reason for your visit you can be sure that by choos the holiday inn express seattl northgat mall area wa hotel locat mean your stay smart our topnotch amen includ a 24hour busi center free hot breakfast bar indoor pool whirlpool and fit center guarante that you will be abl to focu on make the most of your stay\n",
      "\n",
      "Hotel Name: Executive Inn By The Space Needle\n",
      "Similarity Score: 0.4082\n",
      "Hotel Description: situat a stone throw from the seattl center the execut inn is a great place to stay for leisur and busi guest alik execut inn is locat in the shadow of the space needl with the olymp mountain in the background our hotel is near the seattl center the museum of pop cultur pacif scienc center and a host of local attract thi make our hotel the ideal place to stay for leisur and busi guest alik our guest enjoy topnotch servic modern inroom amen and relax surround after a long day catch tour meet downtown or the breathtak sunset over puget sound relax in your wellappoint room or dine in our restaur host an event in seattl we have an event space for corpor and privat gather and cater servic for up 250 guest from boardroom to ballroom we�ll make sure you find the perfect venu for your event we�r one of the few hotel with a close view of the space needl and budgetfriendli room and park rate not onli that we offer a long list of facil to make your stay enjoy like our fit center 247 laundri busi center\n",
      "\n",
      "Hotel Name: 11th Avenue Inn Bed and Breakfast\n",
      "Similarity Score: 0.4013\n",
      "Hotel Description: walk to the pike place market and to the other downtown seattl attract from the 11th avenu inn bed and breakfast a cozi bb on a treelin side street in seattl capitol hill neighborhood we are 2 block from the capitol hill link light rail subway station 10 mile from downtown seattl a 20 minut walk and 15 mile from the pike place market a 30 minut walk most of our guest walk to downtown buse to downtown seattl also stop one block from the inn were near dozen of restaur shop and a popular park� the inn ha 10 uniqu guestroom each with a queen bed and privat bathroom stay where the local live yet close to downtown seattl the 11th avenu inn bed and breakfast is a larg classic lightfil hous built in 1906 and locat on a street of tree and other hous and apart from the turn of the centuri the inn ha origin wood floor and detail antiqu furnitur and orient rug we are locat just up the hill from the seattl hotel district � the area where most tourist and busi travel stay in seattl most of our guest are visit friend or famili here in the capitol hill neighborhood or are visitor to town or busi travel look for an altern to the downtown hotel district\n",
      "\n",
      "Hotel Name: La Quinta by Wyndham Seattle Sea-Tac Airport\n",
      "Similarity Score: 0.3986\n",
      "Hotel Description: locat south of downtown seattl our hotel wa name a 2012 tripadvisor certif of excel winner sit between tacoma and seattl our locat couldn�t be better for the savvi travel there� access to great shop and a varieti of restaur easi access to the citi is great for time save and our relax outdoor swim pool is perfect for entertain the famili while you conduct busi take a short drive into seattl to sightse or shop in one of the most divers citi in the pacif northwest our comfort guest room are equip with highspe internet allow for quick and wellinform plan of your itinerari there are great attract nearbi such as the�museum of flight six flag enchant park pike place market and safeco field�we�r perfectli locat to suit your travel need whether you�r stay for busi or pleasur our awardwin hotel is sure to make your trip a pleasant one wake up to our free bright side breakfast� and enjoy our all youcandrink coffe and juic we�v newli ad samsung flatpanel tv that offer plugandplay compat for your favorit electron devic with 30 hd channel to choos from you�ll have no problem find someth to watch and our beauti outdoor swim pool provid a great escap from a long day of travel our hotel is close to downtown seattl and just a few block from the airport use our no stress shuttl servic to visit the citi and enjoy a varieti of attract and shop option you can even conduct your busi on site by use our busi center we�r on the northwestern corner of south 188th street and intern blvd and just one mile west of i5 with limit onsit park while you are a guest of our hotel and weekli park is avail with our stay and go packag so you can leav your car with us and pick it up on your return\n",
      "\n"
     ]
    }
   ],
   "source": [
    "hotel_name = \"Holiday Inn Seattle Downtown\"\n",
    "recommendations = get_hotel_recommendations(hotel_name)"
   ]
  },
  {
   "cell_type": "code",
   "execution_count": null,
   "id": "773bc346",
   "metadata": {},
   "outputs": [],
   "source": []
  }
 ],
 "metadata": {
  "kernelspec": {
   "display_name": "Python 3 (ipykernel)",
   "language": "python",
   "name": "python3"
  },
  "language_info": {
   "codemirror_mode": {
    "name": "ipython",
    "version": 3
   },
   "file_extension": ".py",
   "mimetype": "text/x-python",
   "name": "python",
   "nbconvert_exporter": "python",
   "pygments_lexer": "ipython3",
   "version": "3.10.9"
  }
 },
 "nbformat": 4,
 "nbformat_minor": 5
}
