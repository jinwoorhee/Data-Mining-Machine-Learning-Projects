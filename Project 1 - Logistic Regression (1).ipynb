{
 "cells": [
  {
   "cell_type": "markdown",
   "id": "6dc53c9d",
   "metadata": {},
   "source": [
    "# Project # 1 - Logistic Regression\n",
    "Data file: https://raw.githubusercontent.com/vjavaly/Baruch-CIS-STA-3920/main/data/credit_card_churners_1_10k.csv"
   ]
  },
  {
   "cell_type": "markdown",
   "id": "6ad04d44-769c-4103-9fe5-41d25ce47dca",
   "metadata": {},
   "source": [
    "## Project #1 Requirements\n",
    "* Load data into dataframe\n",
    "* Examine data\n",
    "* Use SimpleImputer to replace missing values\n",
    "* Prepare data for model training\n",
    "* Train Logistic Regression model (change hyperparameters and re-train as needed)\n",
    "* Test model and evaluate model performance metrics"
   ]
  },
  {
   "cell_type": "code",
   "execution_count": 10,
   "id": "5efeb609-d6a8-4244-9685-dab384c7e3e1",
   "metadata": {},
   "outputs": [
    {
     "name": "stdout",
     "output_type": "stream",
     "text": [
      "Run time: 02/15/24 20:30:34\n"
     ]
    }
   ],
   "source": [
    "from datetime import datetime\n",
    "print(f'Run time: {datetime.now().strftime(\"%D %T\")}')"
   ]
  },
  {
   "cell_type": "markdown",
   "id": "5f63b2d6",
   "metadata": {},
   "source": [
    "### Import libraries"
   ]
  },
  {
   "cell_type": "code",
   "execution_count": 11,
   "id": "f55476c4",
   "metadata": {},
   "outputs": [],
   "source": [
    "import pandas as pd\n",
    "import numpy as np\n",
    "from sklearn.impute import SimpleImputer\n",
    "from sklearn.model_selection import train_test_split\n",
    "from sklearn.linear_model import LogisticRegression\n",
    "from sklearn.metrics import classification_report\n",
    "from sklearn.metrics import confusion_matrix\n",
    "import warnings\n",
    "warnings.filterwarnings(\"ignore\", category=UserWarning)\n",
    "\n",
    "df = pd.read_csv('https://raw.githubusercontent.com/vjavaly/Baruch-CIS-STA-3920/main/data/credit_card_churners_1_10k.csv')\n",
    "\n",
    "# Now, you can review the DataFrame's shape\n",
    "dimensions = df.shape"
   ]
  },
  {
   "cell_type": "markdown",
   "id": "07b3344a",
   "metadata": {},
   "source": [
    "### Load data"
   ]
  },
  {
   "cell_type": "markdown",
   "id": "98d9f49e-fa37-47ca-8863-11303d281fe7",
   "metadata": {},
   "source": [
    "#### Credit Card Churn Prediction\n",
    "* https://www.kaggle.com/datasets/anwarsan/credit-card-bank-churn\n",
    "\n",
    "Business Problem  \n",
    "A business manager of a consumer credit card bank is facing the problem of customer attrition. They want to analyze the data to find out the reason behind this and leverage the same to predict customers who are likely to drop off.\n",
    "\n",
    "Columns\n",
    "* CLIENTNUM: Client number. Unique identifier for the customer holding the account\n",
    "* Attrition_Flag: Internal event (customer activity) variable - if the account is closed then \"Attrited Customer\" else \"Existing Customer\"\n",
    "* Customer_Age: Age in Years\n",
    "* Gender: Gender of the account holder\n",
    "* Dependent_count: Number of dependents\n",
    "* Education_Level: Educational Qualification of the account holder - High School, College, Post-Graduate\n",
    "* Marital_Status: Marital Status of the account holder\n",
    "* Income_Category: Annual Income Category of the account holder\n",
    "* Card_Category: Type of Card\n",
    "* Months_on_book: Period of relationship with the bank\n",
    "* Total_Relationship_Count: Total no. of products held by the customer\n",
    "* Months_Inactive_12_mon: No. of months inactive in the last 12 months\n",
    "* Contacts_Count_12_mon: No. of Contacts between the customer and bank in the last 12 months\n",
    "* Credit_Limit: Credit Limit on the Credit Card\n",
    "* Total_Revolving_Bal: The balance that carries over from one month to the next is the revolving balance\n",
    "* Avg_Open_To_Buy: Open to Buy refers to the amount left on the credit card to use (Average of last 12 months)\n",
    "* Total_Trans_Amt: Total Transaction Amount (Last 12 months)\n",
    "* Total_Trans_Ct: Total Transaction Count (Last 12 months)\n",
    "* Total_Ct_Chng_Q4_Q1: Ratio of the total transaction count in 4th quarter and the total transaction count in 1st quarter\n",
    "* Total_Amt_Chng_Q4_Q1: Ratio of the total transaction amount in 4th quarter and the total transaction amount in 1st quarter\n",
    "* Avg_Utilization_Ratio: Represents how much of the available credit the customer spent"
   ]
  },
  {
   "cell_type": "code",
   "execution_count": 12,
   "id": "d0cc1068",
   "metadata": {},
   "outputs": [
    {
     "name": "stdout",
     "output_type": "stream",
     "text": [
      "   CLIENTNUM  Attrition_Flag  Customer_Age  Dependent_count  Education_Level  \\\n",
      "0  712965183               1          63.0                2              1.0   \n",
      "1  714225333               1          48.0                4              1.0   \n",
      "2  710512833               1          38.0                2              1.0   \n",
      "3  716396358               1          52.0                2              1.0   \n",
      "4  715609533               0          47.0                3              0.0   \n",
      "\n",
      "   Income_Category  Card_Category  Months_on_book  Total_Relationship_Count  \\\n",
      "0              0.0            0.0              52                         5   \n",
      "1              0.0            0.0              36                         5   \n",
      "2              0.0            0.0              29                         6   \n",
      "3              1.0            0.0              47                         5   \n",
      "4              0.0            0.0              35                         1   \n",
      "\n",
      "   Months_Inactive_12_mon  ...  Total_Amt_Chng_Q4_Q1  Total_Trans_Amt  \\\n",
      "0                       2  ...                 0.416             1188   \n",
      "1                       1  ...                 0.661             1545   \n",
      "2                       1  ...                 0.615             5178   \n",
      "3                       3  ...                 0.921             1531   \n",
      "4                       3  ...                 0.621             1887   \n",
      "\n",
      "   Total_Trans_Ct  Total_Ct_Chng_Q4_Q1  Avg_Utilization_Ratio  Gender_F  \\\n",
      "0              35                0.750                  0.781         1   \n",
      "1              21                0.909                  0.264         1   \n",
      "2              79                0.756                  0.405         1   \n",
      "3              35                0.667                  0.619         0   \n",
      "4              36                0.333                  0.000         1   \n",
      "\n",
      "   Gender_M  Marital_Status_Divorced  Marital_Status_Married  \\\n",
      "0         0                        0                       1   \n",
      "1         0                        0                       1   \n",
      "2         0                        0                       1   \n",
      "3         1                        0                       1   \n",
      "4         0                        0                       0   \n",
      "\n",
      "   Marital_Status_Single  \n",
      "0                      0  \n",
      "1                      0  \n",
      "2                      0  \n",
      "3                      0  \n",
      "4                      1  \n",
      "\n",
      "[5 rows x 24 columns]\n"
     ]
    }
   ],
   "source": [
    "# Read data from file (credit_card_churners_1_10k.csv) into dataframe\n",
    "#  NOTE: Use CLIENTNUM as the index column\n",
    "\n",
    "data_url = \"https://raw.githubusercontent.com/vjavaly/Baruch-CIS-STA-3920/main/data/credit_card_churners_1_10k.csv\"\n",
    "\n",
    "data_table = pd.read_csv(data_url)\n",
    "\n",
    "print(data_table.head())\n",
    "\n",
    "\n",
    "# df = pd.read_csv)"
   ]
  },
  {
   "cell_type": "markdown",
   "id": "e82bfde7",
   "metadata": {},
   "source": [
    "### Examine data"
   ]
  },
  {
   "cell_type": "code",
   "execution_count": 13,
   "id": "3c59f675",
   "metadata": {},
   "outputs": [
    {
     "name": "stdout",
     "output_type": "stream",
     "text": [
      "Total rows: 10000\n",
      "Total columns: 24\n"
     ]
    }
   ],
   "source": [
    "# Review dataframe shape\n",
    "dimensions = df.shape\n",
    "\n",
    "print(\"Total rows:\", dimensions[0])\n",
    "print(\"Total columns:\", dimensions[1])"
   ]
  },
  {
   "cell_type": "code",
   "execution_count": 14,
   "id": "739b1218",
   "metadata": {
    "scrolled": true
   },
   "outputs": [
    {
     "data": {
      "text/html": [
       "<div>\n",
       "<style scoped>\n",
       "    .dataframe tbody tr th:only-of-type {\n",
       "        vertical-align: middle;\n",
       "    }\n",
       "\n",
       "    .dataframe tbody tr th {\n",
       "        vertical-align: top;\n",
       "    }\n",
       "\n",
       "    .dataframe thead th {\n",
       "        text-align: right;\n",
       "    }\n",
       "</style>\n",
       "<table border=\"1\" class=\"dataframe\">\n",
       "  <thead>\n",
       "    <tr style=\"text-align: right;\">\n",
       "      <th></th>\n",
       "      <th>CLIENTNUM</th>\n",
       "      <th>Attrition_Flag</th>\n",
       "      <th>Customer_Age</th>\n",
       "      <th>Dependent_count</th>\n",
       "      <th>Education_Level</th>\n",
       "      <th>Income_Category</th>\n",
       "      <th>Card_Category</th>\n",
       "      <th>Months_on_book</th>\n",
       "      <th>Total_Relationship_Count</th>\n",
       "      <th>Months_Inactive_12_mon</th>\n",
       "      <th>...</th>\n",
       "      <th>Total_Amt_Chng_Q4_Q1</th>\n",
       "      <th>Total_Trans_Amt</th>\n",
       "      <th>Total_Trans_Ct</th>\n",
       "      <th>Total_Ct_Chng_Q4_Q1</th>\n",
       "      <th>Avg_Utilization_Ratio</th>\n",
       "      <th>Gender_F</th>\n",
       "      <th>Gender_M</th>\n",
       "      <th>Marital_Status_Divorced</th>\n",
       "      <th>Marital_Status_Married</th>\n",
       "      <th>Marital_Status_Single</th>\n",
       "    </tr>\n",
       "  </thead>\n",
       "  <tbody>\n",
       "    <tr>\n",
       "      <th>0</th>\n",
       "      <td>712965183</td>\n",
       "      <td>1</td>\n",
       "      <td>63.0</td>\n",
       "      <td>2</td>\n",
       "      <td>1.0</td>\n",
       "      <td>0.0</td>\n",
       "      <td>0.0</td>\n",
       "      <td>52</td>\n",
       "      <td>5</td>\n",
       "      <td>2</td>\n",
       "      <td>...</td>\n",
       "      <td>0.416</td>\n",
       "      <td>1188</td>\n",
       "      <td>35</td>\n",
       "      <td>0.750</td>\n",
       "      <td>0.781</td>\n",
       "      <td>1</td>\n",
       "      <td>0</td>\n",
       "      <td>0</td>\n",
       "      <td>1</td>\n",
       "      <td>0</td>\n",
       "    </tr>\n",
       "    <tr>\n",
       "      <th>1</th>\n",
       "      <td>714225333</td>\n",
       "      <td>1</td>\n",
       "      <td>48.0</td>\n",
       "      <td>4</td>\n",
       "      <td>1.0</td>\n",
       "      <td>0.0</td>\n",
       "      <td>0.0</td>\n",
       "      <td>36</td>\n",
       "      <td>5</td>\n",
       "      <td>1</td>\n",
       "      <td>...</td>\n",
       "      <td>0.661</td>\n",
       "      <td>1545</td>\n",
       "      <td>21</td>\n",
       "      <td>0.909</td>\n",
       "      <td>0.264</td>\n",
       "      <td>1</td>\n",
       "      <td>0</td>\n",
       "      <td>0</td>\n",
       "      <td>1</td>\n",
       "      <td>0</td>\n",
       "    </tr>\n",
       "    <tr>\n",
       "      <th>2</th>\n",
       "      <td>710512833</td>\n",
       "      <td>1</td>\n",
       "      <td>38.0</td>\n",
       "      <td>2</td>\n",
       "      <td>1.0</td>\n",
       "      <td>0.0</td>\n",
       "      <td>0.0</td>\n",
       "      <td>29</td>\n",
       "      <td>6</td>\n",
       "      <td>1</td>\n",
       "      <td>...</td>\n",
       "      <td>0.615</td>\n",
       "      <td>5178</td>\n",
       "      <td>79</td>\n",
       "      <td>0.756</td>\n",
       "      <td>0.405</td>\n",
       "      <td>1</td>\n",
       "      <td>0</td>\n",
       "      <td>0</td>\n",
       "      <td>1</td>\n",
       "      <td>0</td>\n",
       "    </tr>\n",
       "    <tr>\n",
       "      <th>3</th>\n",
       "      <td>716396358</td>\n",
       "      <td>1</td>\n",
       "      <td>52.0</td>\n",
       "      <td>2</td>\n",
       "      <td>1.0</td>\n",
       "      <td>1.0</td>\n",
       "      <td>0.0</td>\n",
       "      <td>47</td>\n",
       "      <td>5</td>\n",
       "      <td>3</td>\n",
       "      <td>...</td>\n",
       "      <td>0.921</td>\n",
       "      <td>1531</td>\n",
       "      <td>35</td>\n",
       "      <td>0.667</td>\n",
       "      <td>0.619</td>\n",
       "      <td>0</td>\n",
       "      <td>1</td>\n",
       "      <td>0</td>\n",
       "      <td>1</td>\n",
       "      <td>0</td>\n",
       "    </tr>\n",
       "    <tr>\n",
       "      <th>4</th>\n",
       "      <td>715609533</td>\n",
       "      <td>0</td>\n",
       "      <td>47.0</td>\n",
       "      <td>3</td>\n",
       "      <td>0.0</td>\n",
       "      <td>0.0</td>\n",
       "      <td>0.0</td>\n",
       "      <td>35</td>\n",
       "      <td>1</td>\n",
       "      <td>3</td>\n",
       "      <td>...</td>\n",
       "      <td>0.621</td>\n",
       "      <td>1887</td>\n",
       "      <td>36</td>\n",
       "      <td>0.333</td>\n",
       "      <td>0.000</td>\n",
       "      <td>1</td>\n",
       "      <td>0</td>\n",
       "      <td>0</td>\n",
       "      <td>0</td>\n",
       "      <td>1</td>\n",
       "    </tr>\n",
       "  </tbody>\n",
       "</table>\n",
       "<p>5 rows × 24 columns</p>\n",
       "</div>"
      ],
      "text/plain": [
       "   CLIENTNUM  Attrition_Flag  Customer_Age  Dependent_count  Education_Level  \\\n",
       "0  712965183               1          63.0                2              1.0   \n",
       "1  714225333               1          48.0                4              1.0   \n",
       "2  710512833               1          38.0                2              1.0   \n",
       "3  716396358               1          52.0                2              1.0   \n",
       "4  715609533               0          47.0                3              0.0   \n",
       "\n",
       "   Income_Category  Card_Category  Months_on_book  Total_Relationship_Count  \\\n",
       "0              0.0            0.0              52                         5   \n",
       "1              0.0            0.0              36                         5   \n",
       "2              0.0            0.0              29                         6   \n",
       "3              1.0            0.0              47                         5   \n",
       "4              0.0            0.0              35                         1   \n",
       "\n",
       "   Months_Inactive_12_mon  ...  Total_Amt_Chng_Q4_Q1  Total_Trans_Amt  \\\n",
       "0                       2  ...                 0.416             1188   \n",
       "1                       1  ...                 0.661             1545   \n",
       "2                       1  ...                 0.615             5178   \n",
       "3                       3  ...                 0.921             1531   \n",
       "4                       3  ...                 0.621             1887   \n",
       "\n",
       "   Total_Trans_Ct  Total_Ct_Chng_Q4_Q1  Avg_Utilization_Ratio  Gender_F  \\\n",
       "0              35                0.750                  0.781         1   \n",
       "1              21                0.909                  0.264         1   \n",
       "2              79                0.756                  0.405         1   \n",
       "3              35                0.667                  0.619         0   \n",
       "4              36                0.333                  0.000         1   \n",
       "\n",
       "   Gender_M  Marital_Status_Divorced  Marital_Status_Married  \\\n",
       "0         0                        0                       1   \n",
       "1         0                        0                       1   \n",
       "2         0                        0                       1   \n",
       "3         1                        0                       1   \n",
       "4         0                        0                       0   \n",
       "\n",
       "   Marital_Status_Single  \n",
       "0                      0  \n",
       "1                      0  \n",
       "2                      0  \n",
       "3                      0  \n",
       "4                      1  \n",
       "\n",
       "[5 rows x 24 columns]"
      ]
     },
     "execution_count": 14,
     "metadata": {},
     "output_type": "execute_result"
    }
   ],
   "source": [
    "# Display first few rows of dataframe\n",
    "df.head()"
   ]
  },
  {
   "cell_type": "code",
   "execution_count": 15,
   "id": "5b7bccad-fa64-4787-91e9-43f1445dbb61",
   "metadata": {},
   "outputs": [
    {
     "data": {
      "text/plain": [
       "Attrition_Flag\n",
       "1    8392\n",
       "0    1608\n",
       "Name: count, dtype: int64"
      ]
     },
     "execution_count": 15,
     "metadata": {},
     "output_type": "execute_result"
    }
   ],
   "source": [
    "# Display distribution counts for target variable Attrition_Flag\n",
    "\n",
    "frequency_distribution = df['Attrition_Flag'].value_counts()\n",
    "\n",
    "frequency_distribution"
   ]
  },
  {
   "cell_type": "markdown",
   "id": "fb8041c4",
   "metadata": {},
   "source": [
    "### Prepare data"
   ]
  },
  {
   "cell_type": "markdown",
   "id": "a4de4294",
   "metadata": {},
   "source": [
    "##### Check for missing values"
   ]
  },
  {
   "cell_type": "code",
   "execution_count": 16,
   "id": "aa61de2c",
   "metadata": {},
   "outputs": [
    {
     "name": "stdout",
     "output_type": "stream",
     "text": [
      "CLIENTNUM                     0\n",
      "Attrition_Flag                0\n",
      "Customer_Age                502\n",
      "Dependent_count               0\n",
      "Education_Level               0\n",
      "Income_Category               0\n",
      "Card_Category                 0\n",
      "Months_on_book                0\n",
      "Total_Relationship_Count      0\n",
      "Months_Inactive_12_mon        0\n",
      "Contacts_Count_12_mon         0\n",
      "Credit_Limit                  0\n",
      "Total_Revolving_Bal           0\n",
      "Avg_Open_To_Buy               0\n",
      "Total_Amt_Chng_Q4_Q1          0\n",
      "Total_Trans_Amt               0\n",
      "Total_Trans_Ct                0\n",
      "Total_Ct_Chng_Q4_Q1           0\n",
      "Avg_Utilization_Ratio         0\n",
      "Gender_F                      0\n",
      "Gender_M                      0\n",
      "Marital_Status_Divorced       0\n",
      "Marital_Status_Married        0\n",
      "Marital_Status_Single         0\n",
      "dtype: int64\n"
     ]
    }
   ],
   "source": [
    "absent_value = df.isna().sum()\n",
    "\n",
    "print(absent_value)"
   ]
  },
  {
   "cell_type": "markdown",
   "id": "3b3717df-a5b6-4444-a410-9b68a0cba168",
   "metadata": {},
   "source": [
    "#### Use the SimpleImputer to replace missing values"
   ]
  },
  {
   "cell_type": "code",
   "execution_count": 17,
   "id": "279c8916-3872-4a5e-b7bc-2d3853a8caec",
   "metadata": {
    "tags": []
   },
   "outputs": [],
   "source": [
    "imputer = SimpleImputer(strategy='mean')\n",
    "\n",
    "df['Customer_Age'] = imputer.fit_transform(df[['Customer_Age']])\n",
    "\n",
    "updated_missing_values = df.isna().sum()\n"
   ]
  },
  {
   "cell_type": "code",
   "execution_count": 18,
   "id": "7bcb7f3f-f693-4c1a-8059-141c4b75baa2",
   "metadata": {},
   "outputs": [
    {
     "name": "stdout",
     "output_type": "stream",
     "text": [
      "CLIENTNUM                     0\n",
      "Attrition_Flag                0\n",
      "Customer_Age                502\n",
      "Dependent_count               0\n",
      "Education_Level               0\n",
      "Income_Category               0\n",
      "Card_Category                 0\n",
      "Months_on_book                0\n",
      "Total_Relationship_Count      0\n",
      "Months_Inactive_12_mon        0\n",
      "Contacts_Count_12_mon         0\n",
      "Credit_Limit                  0\n",
      "Total_Revolving_Bal           0\n",
      "Avg_Open_To_Buy               0\n",
      "Total_Amt_Chng_Q4_Q1          0\n",
      "Total_Trans_Amt               0\n",
      "Total_Trans_Ct                0\n",
      "Total_Ct_Chng_Q4_Q1           0\n",
      "Avg_Utilization_Ratio         0\n",
      "Gender_F                      0\n",
      "Gender_M                      0\n",
      "Marital_Status_Divorced       0\n",
      "Marital_Status_Married        0\n",
      "Marital_Status_Single         0\n",
      "dtype: int64\n"
     ]
    }
   ],
   "source": [
    "print(absent_value)"
   ]
  },
  {
   "cell_type": "markdown",
   "id": "4bbf8127",
   "metadata": {},
   "source": [
    "#### Check for missing values again"
   ]
  },
  {
   "cell_type": "code",
   "execution_count": 19,
   "id": "c494a22a",
   "metadata": {
    "tags": []
   },
   "outputs": [
    {
     "name": "stdout",
     "output_type": "stream",
     "text": [
      "CLIENTNUM                     0\n",
      "Attrition_Flag                0\n",
      "Customer_Age                502\n",
      "Dependent_count               0\n",
      "Education_Level               0\n",
      "Income_Category               0\n",
      "Card_Category                 0\n",
      "Months_on_book                0\n",
      "Total_Relationship_Count      0\n",
      "Months_Inactive_12_mon        0\n",
      "Contacts_Count_12_mon         0\n",
      "Credit_Limit                  0\n",
      "Total_Revolving_Bal           0\n",
      "Avg_Open_To_Buy               0\n",
      "Total_Amt_Chng_Q4_Q1          0\n",
      "Total_Trans_Amt               0\n",
      "Total_Trans_Ct                0\n",
      "Total_Ct_Chng_Q4_Q1           0\n",
      "Avg_Utilization_Ratio         0\n",
      "Gender_F                      0\n",
      "Gender_M                      0\n",
      "Marital_Status_Divorced       0\n",
      "Marital_Status_Married        0\n",
      "Marital_Status_Single         0\n",
      "dtype: int64\n"
     ]
    }
   ],
   "source": [
    "missing_values = df.isna().sum()\n",
    "\n",
    "print(absent_value)"
   ]
  },
  {
   "cell_type": "markdown",
   "id": "bf90de1f",
   "metadata": {},
   "source": [
    "### Separate independent and dependent variables\n",
    "* Independent variables: All remaining variables except Attrition_Flag\n",
    "* Dependent variable: Attrition_Flag"
   ]
  },
  {
   "cell_type": "code",
   "execution_count": 20,
   "id": "c41094db",
   "metadata": {},
   "outputs": [],
   "source": [
    "dependent_variable = 'Attrition_Flag'\n",
    "\n",
    "independent_variables = [\n",
    "    'Customer_Age',\n",
    "    'Dependent_count',\n",
    "    'Education_Level',\n",
    "    'Income_Category',\n",
    "    'Card_Category',\n",
    "    'Months_on_book',\n",
    "    'Total_Relationship_Count',\n",
    "    'Months_Inactive_12_mon',\n",
    "    'Contacts_Count_12_mon',\n",
    "    'Credit_Limit',\n",
    "    'Total_Revolving_Bal',\n",
    "    'Avg_Open_To_Buy',\n",
    "    'Total_Amt_Chng_Q4_Q1',\n",
    "    'Total_Trans_Amt',\n",
    "    'Total_Trans_Ct',\n",
    "    'Total_Ct_Chng_Q4_Q1',\n",
    "    'Avg_Utilization_Ratio',\n",
    "    'Gender_F',\n",
    "    'Gender_M',\n",
    "    'Marital_Status_Divorced',\n",
    "    'Marital_Status_Married',\n",
    "    'Marital_Status_Single'\n",
    "]\n",
    "\n",
    "\n",
    "X = df[independent_variables]\n",
    "y = df[dependent_variable]"
   ]
  },
  {
   "cell_type": "markdown",
   "id": "e36a85e3",
   "metadata": {},
   "source": [
    "### Split data into training and test sets"
   ]
  },
  {
   "cell_type": "code",
   "execution_count": 21,
   "id": "b42d94e2",
   "metadata": {},
   "outputs": [],
   "source": [
    "X_train, X_test, y_train, y_test = train_test_split(X, y, test_size=0.2, random_state=42)"
   ]
  },
  {
   "cell_type": "markdown",
   "id": "1a8efaee",
   "metadata": {},
   "source": [
    "### Train Logistic Regression model"
   ]
  },
  {
   "cell_type": "code",
   "execution_count": 22,
   "id": "5bb03ef2",
   "metadata": {},
   "outputs": [
    {
     "data": {
      "text/html": [
       "<style>#sk-container-id-1 {color: black;}#sk-container-id-1 pre{padding: 0;}#sk-container-id-1 div.sk-toggleable {background-color: white;}#sk-container-id-1 label.sk-toggleable__label {cursor: pointer;display: block;width: 100%;margin-bottom: 0;padding: 0.3em;box-sizing: border-box;text-align: center;}#sk-container-id-1 label.sk-toggleable__label-arrow:before {content: \"▸\";float: left;margin-right: 0.25em;color: #696969;}#sk-container-id-1 label.sk-toggleable__label-arrow:hover:before {color: black;}#sk-container-id-1 div.sk-estimator:hover label.sk-toggleable__label-arrow:before {color: black;}#sk-container-id-1 div.sk-toggleable__content {max-height: 0;max-width: 0;overflow: hidden;text-align: left;background-color: #f0f8ff;}#sk-container-id-1 div.sk-toggleable__content pre {margin: 0.2em;color: black;border-radius: 0.25em;background-color: #f0f8ff;}#sk-container-id-1 input.sk-toggleable__control:checked~div.sk-toggleable__content {max-height: 200px;max-width: 100%;overflow: auto;}#sk-container-id-1 input.sk-toggleable__control:checked~label.sk-toggleable__label-arrow:before {content: \"▾\";}#sk-container-id-1 div.sk-estimator input.sk-toggleable__control:checked~label.sk-toggleable__label {background-color: #d4ebff;}#sk-container-id-1 div.sk-label input.sk-toggleable__control:checked~label.sk-toggleable__label {background-color: #d4ebff;}#sk-container-id-1 input.sk-hidden--visually {border: 0;clip: rect(1px 1px 1px 1px);clip: rect(1px, 1px, 1px, 1px);height: 1px;margin: -1px;overflow: hidden;padding: 0;position: absolute;width: 1px;}#sk-container-id-1 div.sk-estimator {font-family: monospace;background-color: #f0f8ff;border: 1px dotted black;border-radius: 0.25em;box-sizing: border-box;margin-bottom: 0.5em;}#sk-container-id-1 div.sk-estimator:hover {background-color: #d4ebff;}#sk-container-id-1 div.sk-parallel-item::after {content: \"\";width: 100%;border-bottom: 1px solid gray;flex-grow: 1;}#sk-container-id-1 div.sk-label:hover label.sk-toggleable__label {background-color: #d4ebff;}#sk-container-id-1 div.sk-serial::before {content: \"\";position: absolute;border-left: 1px solid gray;box-sizing: border-box;top: 0;bottom: 0;left: 50%;z-index: 0;}#sk-container-id-1 div.sk-serial {display: flex;flex-direction: column;align-items: center;background-color: white;padding-right: 0.2em;padding-left: 0.2em;position: relative;}#sk-container-id-1 div.sk-item {position: relative;z-index: 1;}#sk-container-id-1 div.sk-parallel {display: flex;align-items: stretch;justify-content: center;background-color: white;position: relative;}#sk-container-id-1 div.sk-item::before, #sk-container-id-1 div.sk-parallel-item::before {content: \"\";position: absolute;border-left: 1px solid gray;box-sizing: border-box;top: 0;bottom: 0;left: 50%;z-index: -1;}#sk-container-id-1 div.sk-parallel-item {display: flex;flex-direction: column;z-index: 1;position: relative;background-color: white;}#sk-container-id-1 div.sk-parallel-item:first-child::after {align-self: flex-end;width: 50%;}#sk-container-id-1 div.sk-parallel-item:last-child::after {align-self: flex-start;width: 50%;}#sk-container-id-1 div.sk-parallel-item:only-child::after {width: 0;}#sk-container-id-1 div.sk-dashed-wrapped {border: 1px dashed gray;margin: 0 0.4em 0.5em 0.4em;box-sizing: border-box;padding-bottom: 0.4em;background-color: white;}#sk-container-id-1 div.sk-label label {font-family: monospace;font-weight: bold;display: inline-block;line-height: 1.2em;}#sk-container-id-1 div.sk-label-container {text-align: center;}#sk-container-id-1 div.sk-container {/* jupyter's `normalize.less` sets `[hidden] { display: none; }` but bootstrap.min.css set `[hidden] { display: none !important; }` so we also need the `!important` here to be able to override the default hidden behavior on the sphinx rendered scikit-learn.org. See: https://github.com/scikit-learn/scikit-learn/issues/21755 */display: inline-block !important;position: relative;}#sk-container-id-1 div.sk-text-repr-fallback {display: none;}</style><div id=\"sk-container-id-1\" class=\"sk-top-container\"><div class=\"sk-text-repr-fallback\"><pre>LogisticRegression(max_iter=1000)</pre><b>In a Jupyter environment, please rerun this cell to show the HTML representation or trust the notebook. <br />On GitHub, the HTML representation is unable to render, please try loading this page with nbviewer.org.</b></div><div class=\"sk-container\" hidden><div class=\"sk-item\"><div class=\"sk-estimator sk-toggleable\"><input class=\"sk-toggleable__control sk-hidden--visually\" id=\"sk-estimator-id-1\" type=\"checkbox\" checked><label for=\"sk-estimator-id-1\" class=\"sk-toggleable__label sk-toggleable__label-arrow\">LogisticRegression</label><div class=\"sk-toggleable__content\"><pre>LogisticRegression(max_iter=1000)</pre></div></div></div></div></div>"
      ],
      "text/plain": [
       "LogisticRegression(max_iter=1000)"
      ]
     },
     "execution_count": 22,
     "metadata": {},
     "output_type": "execute_result"
    }
   ],
   "source": [
    "from sklearn.preprocessing import StandardScaler\n",
    "\n",
    "scaler = StandardScaler()\n",
    "X_train_scaled = scaler.fit_transform(X_train)\n",
    "X_test_scaled = scaler.transform(X_test)\n",
    "\n",
    "logistic_regression_model = LogisticRegression(max_iter=1000)\n",
    "logistic_regression_model.fit(X_train_scaled, y_train)"
   ]
  },
  {
   "cell_type": "markdown",
   "id": "db1ee74d",
   "metadata": {
    "tags": []
   },
   "source": [
    "### If above results in error, review error message, look up documentation for LogisticRegression, and change model hyperparameter appropriately"
   ]
  },
  {
   "cell_type": "code",
   "execution_count": null,
   "id": "79ca3af1-bc75-45ec-b0c0-7ab9465e09ed",
   "metadata": {},
   "outputs": [],
   "source": []
  },
  {
   "cell_type": "markdown",
   "id": "c6ee096b",
   "metadata": {},
   "source": [
    "### Test model"
   ]
  },
  {
   "cell_type": "code",
   "execution_count": 23,
   "id": "53a44275",
   "metadata": {},
   "outputs": [
    {
     "name": "stdout",
     "output_type": "stream",
     "text": [
      "Customer_Age: 0.019990153998473804\n",
      "Dependent_count: -0.14407826402829843\n",
      "Education_Level: -0.04062591700408743\n",
      "Income_Category: -0.21782386247678942\n",
      "Card_Category: -0.14200193313092055\n",
      "Months_on_book: 0.0859592204752861\n",
      "Total_Relationship_Count: 0.7423578834642501\n",
      "Months_Inactive_12_mon: -0.5299692646551385\n",
      "Contacts_Count_12_mon: -0.5475441762710864\n",
      "Credit_Limit: 0.11698391418787597\n",
      "Total_Revolving_Bal: 0.6848314294942892\n",
      "Avg_Open_To_Buy: 0.05552185282188204\n",
      "Total_Amt_Chng_Q4_Q1: 0.10237928409757999\n",
      "Total_Trans_Amt: -1.6412853449573885\n",
      "Total_Trans_Ct: 2.8044436766137157\n",
      "Total_Ct_Chng_Q4_Q1: 0.6294975060292627\n",
      "Avg_Utilization_Ratio: 0.11379226548032693\n",
      "Gender_F: -0.24183100614914127\n",
      "Gender_M: 0.24183100614914127\n",
      "Marital_Status_Divorced: -0.05525456900878645\n",
      "Marital_Status_Married: 0.16709153766373594\n",
      "Marital_Status_Single: -0.1332164778837748\n"
     ]
    }
   ],
   "source": [
    "# Generate predictions against the test set\n",
    "\n",
    "y_pred = logistic_regression_model.predict(X_test)\n",
    "\n",
    "feature_names = X.columns\n",
    "coefficients = logistic_regression_model.coef_\n",
    "\n",
    "for feature, coef in zip(feature_names, coefficients[0]):\n",
    "    print(f\"{feature}: {coef}\")\n"
   ]
  },
  {
   "cell_type": "markdown",
   "id": "c6f62cb5",
   "metadata": {},
   "source": [
    "### Model evaluation"
   ]
  },
  {
   "cell_type": "code",
   "execution_count": 24,
   "id": "f45b33dd",
   "metadata": {},
   "outputs": [
    {
     "name": "stdout",
     "output_type": "stream",
     "text": [
      "Accuracy: 0.2265\n"
     ]
    }
   ],
   "source": [
    "from sklearn.metrics import accuracy_score\n",
    "\n",
    "# Print model accuracy\n",
    "y_pred = logistic_regression_model.predict(X_test)\n",
    "\n",
    "accuracy = accuracy_score(y_test, y_pred)\n",
    "\n",
    "print(\"Accuracy:\", accuracy)"
   ]
  },
  {
   "cell_type": "code",
   "execution_count": 25,
   "id": "ca4ccd8f",
   "metadata": {
    "scrolled": true
   },
   "outputs": [
    {
     "name": "stdout",
     "output_type": "stream",
     "text": [
      "              precision    recall  f1-score   support\n",
      "\n",
      "           0       0.15      0.84      0.26       322\n",
      "           1       0.78      0.11      0.19      1678\n",
      "\n",
      "    accuracy                           0.23      2000\n",
      "   macro avg       0.47      0.48      0.22      2000\n",
      "weighted avg       0.68      0.23      0.20      2000\n",
      "\n"
     ]
    }
   ],
   "source": [
    "# Print classification report\n",
    "from sklearn.metrics import classification_report\n",
    "\n",
    "y_pred = logistic_regression_model.predict(X_test)\n",
    "\n",
    "report = classification_report(y_test, y_pred)\n",
    "\n",
    "print(report)"
   ]
  },
  {
   "cell_type": "code",
   "execution_count": 26,
   "id": "2589d81e",
   "metadata": {
    "scrolled": true
   },
   "outputs": [
    {
     "name": "stdout",
     "output_type": "stream",
     "text": [
      "confusion matrix:\n",
      "[[ 272   50]\n",
      " [1497  181]]\n"
     ]
    }
   ],
   "source": [
    "# Print confusion matrix\n",
    "y_pred = logistic_regression_model.predict(X_test)\n",
    "\n",
    "conf_matrix = confusion_matrix(y_test, y_pred)\n",
    "\n",
    "print(\"confusion matrix:\")\n",
    "print(conf_matrix)\n"
   ]
  },
  {
   "cell_type": "code",
   "execution_count": null,
   "id": "0f4a3523",
   "metadata": {},
   "outputs": [],
   "source": []
  },
  {
   "cell_type": "code",
   "execution_count": null,
   "id": "aca380a1",
   "metadata": {},
   "outputs": [],
   "source": []
  }
 ],
 "metadata": {
  "kernelspec": {
   "display_name": "Python 3 (ipykernel)",
   "language": "python",
   "name": "python3"
  },
  "language_info": {
   "codemirror_mode": {
    "name": "ipython",
    "version": 3
   },
   "file_extension": ".py",
   "mimetype": "text/x-python",
   "name": "python",
   "nbconvert_exporter": "python",
   "pygments_lexer": "ipython3",
   "version": "3.10.9"
  }
 },
 "nbformat": 4,
 "nbformat_minor": 5
}
